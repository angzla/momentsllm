{
  "nbformat": 4,
  "nbformat_minor": 0,
  "metadata": {
    "colab": {
      "provenance": [],
      "toc_visible": true,
      "authorship_tag": "ABX9TyMkWh1ROfsg1cb6jiPIc9zP",
      "include_colab_link": true
    },
    "kernelspec": {
      "name": "python3",
      "display_name": "Python 3"
    },
    "language_info": {
      "name": "python"
    }
  },
  "cells": [
    {
      "cell_type": "markdown",
      "metadata": {
        "id": "view-in-github",
        "colab_type": "text"
      },
      "source": [
        "<a href=\"https://colab.research.google.com/github/angzla/momentsllm/blob/main/MomentsLLM.ipynb\" target=\"_parent\"><img src=\"https://colab.research.google.com/assets/colab-badge.svg\" alt=\"Open In Colab\"/></a>"
      ]
    },
    {
      "cell_type": "markdown",
      "source": [
        "#Importing everything"
      ],
      "metadata": {
        "id": "MnXcvsGUIjmV"
      }
    },
    {
      "cell_type": "code",
      "execution_count": null,
      "metadata": {
        "colab": {
          "base_uri": "https://localhost:8080/"
        },
        "id": "6IeQ2y4hfq-m",
        "outputId": "790102c3-f1b1-4fb4-bdfa-0bd6e0d94db2"
      },
      "outputs": [
        {
          "output_type": "stream",
          "name": "stdout",
          "text": [
            "Collecting langchain\n",
            "  Downloading langchain-0.0.252-py3-none-any.whl (1.4 MB)\n",
            "\u001b[2K     \u001b[90m━━━━━━━━━━━━━━━━━━━━━━━━━━━━━━━━━━━━━━━━\u001b[0m \u001b[32m1.4/1.4 MB\u001b[0m \u001b[31m5.5 MB/s\u001b[0m eta \u001b[36m0:00:00\u001b[0m\n",
            "\u001b[?25hRequirement already satisfied: PyYAML>=5.3 in /usr/local/lib/python3.10/dist-packages (from langchain) (6.0.1)\n",
            "Requirement already satisfied: SQLAlchemy<3,>=1.4 in /usr/local/lib/python3.10/dist-packages (from langchain) (2.0.19)\n",
            "Requirement already satisfied: aiohttp<4.0.0,>=3.8.3 in /usr/local/lib/python3.10/dist-packages (from langchain) (3.8.5)\n",
            "Requirement already satisfied: async-timeout<5.0.0,>=4.0.0 in /usr/local/lib/python3.10/dist-packages (from langchain) (4.0.2)\n",
            "Collecting dataclasses-json<0.6.0,>=0.5.7 (from langchain)\n",
            "  Downloading dataclasses_json-0.5.14-py3-none-any.whl (26 kB)\n",
            "Collecting langsmith<0.1.0,>=0.0.11 (from langchain)\n",
            "  Downloading langsmith-0.0.18-py3-none-any.whl (31 kB)\n",
            "Requirement already satisfied: numexpr<3.0.0,>=2.8.4 in /usr/local/lib/python3.10/dist-packages (from langchain) (2.8.4)\n",
            "Requirement already satisfied: numpy<2,>=1 in /usr/local/lib/python3.10/dist-packages (from langchain) (1.22.4)\n",
            "Collecting openapi-schema-pydantic<2.0,>=1.2 (from langchain)\n",
            "  Downloading openapi_schema_pydantic-1.2.4-py3-none-any.whl (90 kB)\n",
            "\u001b[2K     \u001b[90m━━━━━━━━━━━━━━━━━━━━━━━━━━━━━━━━━━━━━━━━\u001b[0m \u001b[32m90.0/90.0 kB\u001b[0m \u001b[31m5.5 MB/s\u001b[0m eta \u001b[36m0:00:00\u001b[0m\n",
            "\u001b[?25hRequirement already satisfied: pydantic<2,>=1 in /usr/local/lib/python3.10/dist-packages (from langchain) (1.10.12)\n",
            "Requirement already satisfied: requests<3,>=2 in /usr/local/lib/python3.10/dist-packages (from langchain) (2.27.1)\n",
            "Requirement already satisfied: tenacity<9.0.0,>=8.1.0 in /usr/local/lib/python3.10/dist-packages (from langchain) (8.2.2)\n",
            "Requirement already satisfied: attrs>=17.3.0 in /usr/local/lib/python3.10/dist-packages (from aiohttp<4.0.0,>=3.8.3->langchain) (23.1.0)\n",
            "Requirement already satisfied: charset-normalizer<4.0,>=2.0 in /usr/local/lib/python3.10/dist-packages (from aiohttp<4.0.0,>=3.8.3->langchain) (2.0.12)\n",
            "Requirement already satisfied: multidict<7.0,>=4.5 in /usr/local/lib/python3.10/dist-packages (from aiohttp<4.0.0,>=3.8.3->langchain) (6.0.4)\n",
            "Requirement already satisfied: yarl<2.0,>=1.0 in /usr/local/lib/python3.10/dist-packages (from aiohttp<4.0.0,>=3.8.3->langchain) (1.9.2)\n",
            "Requirement already satisfied: frozenlist>=1.1.1 in /usr/local/lib/python3.10/dist-packages (from aiohttp<4.0.0,>=3.8.3->langchain) (1.4.0)\n",
            "Requirement already satisfied: aiosignal>=1.1.2 in /usr/local/lib/python3.10/dist-packages (from aiohttp<4.0.0,>=3.8.3->langchain) (1.3.1)\n",
            "Collecting marshmallow<4.0.0,>=3.18.0 (from dataclasses-json<0.6.0,>=0.5.7->langchain)\n",
            "  Downloading marshmallow-3.20.1-py3-none-any.whl (49 kB)\n",
            "\u001b[2K     \u001b[90m━━━━━━━━━━━━━━━━━━━━━━━━━━━━━━━━━━━━━━━━\u001b[0m \u001b[32m49.4/49.4 kB\u001b[0m \u001b[31m1.2 MB/s\u001b[0m eta \u001b[36m0:00:00\u001b[0m\n",
            "\u001b[?25hCollecting typing-inspect<1,>=0.4.0 (from dataclasses-json<0.6.0,>=0.5.7->langchain)\n",
            "  Downloading typing_inspect-0.9.0-py3-none-any.whl (8.8 kB)\n",
            "Requirement already satisfied: typing-extensions>=4.2.0 in /usr/local/lib/python3.10/dist-packages (from pydantic<2,>=1->langchain) (4.7.1)\n",
            "Requirement already satisfied: urllib3<1.27,>=1.21.1 in /usr/local/lib/python3.10/dist-packages (from requests<3,>=2->langchain) (1.26.16)\n",
            "Requirement already satisfied: certifi>=2017.4.17 in /usr/local/lib/python3.10/dist-packages (from requests<3,>=2->langchain) (2023.7.22)\n",
            "Requirement already satisfied: idna<4,>=2.5 in /usr/local/lib/python3.10/dist-packages (from requests<3,>=2->langchain) (3.4)\n",
            "Requirement already satisfied: greenlet!=0.4.17 in /usr/local/lib/python3.10/dist-packages (from SQLAlchemy<3,>=1.4->langchain) (2.0.2)\n",
            "Requirement already satisfied: packaging>=17.0 in /usr/local/lib/python3.10/dist-packages (from marshmallow<4.0.0,>=3.18.0->dataclasses-json<0.6.0,>=0.5.7->langchain) (23.1)\n",
            "Collecting mypy-extensions>=0.3.0 (from typing-inspect<1,>=0.4.0->dataclasses-json<0.6.0,>=0.5.7->langchain)\n",
            "  Downloading mypy_extensions-1.0.0-py3-none-any.whl (4.7 kB)\n",
            "Installing collected packages: mypy-extensions, marshmallow, typing-inspect, openapi-schema-pydantic, langsmith, dataclasses-json, langchain\n",
            "Successfully installed dataclasses-json-0.5.14 langchain-0.0.252 langsmith-0.0.18 marshmallow-3.20.1 mypy-extensions-1.0.0 openapi-schema-pydantic-1.2.4 typing-inspect-0.9.0\n",
            "Collecting openai\n",
            "  Downloading openai-0.27.8-py3-none-any.whl (73 kB)\n",
            "\u001b[2K     \u001b[90m━━━━━━━━━━━━━━━━━━━━━━━━━━━━━━━━━━━━━━━━\u001b[0m \u001b[32m73.6/73.6 kB\u001b[0m \u001b[31m1.2 MB/s\u001b[0m eta \u001b[36m0:00:00\u001b[0m\n",
            "\u001b[?25hRequirement already satisfied: requests>=2.20 in /usr/local/lib/python3.10/dist-packages (from openai) (2.27.1)\n",
            "Requirement already satisfied: tqdm in /usr/local/lib/python3.10/dist-packages (from openai) (4.65.0)\n",
            "Requirement already satisfied: aiohttp in /usr/local/lib/python3.10/dist-packages (from openai) (3.8.5)\n",
            "Requirement already satisfied: urllib3<1.27,>=1.21.1 in /usr/local/lib/python3.10/dist-packages (from requests>=2.20->openai) (1.26.16)\n",
            "Requirement already satisfied: certifi>=2017.4.17 in /usr/local/lib/python3.10/dist-packages (from requests>=2.20->openai) (2023.7.22)\n",
            "Requirement already satisfied: charset-normalizer~=2.0.0 in /usr/local/lib/python3.10/dist-packages (from requests>=2.20->openai) (2.0.12)\n",
            "Requirement already satisfied: idna<4,>=2.5 in /usr/local/lib/python3.10/dist-packages (from requests>=2.20->openai) (3.4)\n",
            "Requirement already satisfied: attrs>=17.3.0 in /usr/local/lib/python3.10/dist-packages (from aiohttp->openai) (23.1.0)\n",
            "Requirement already satisfied: multidict<7.0,>=4.5 in /usr/local/lib/python3.10/dist-packages (from aiohttp->openai) (6.0.4)\n",
            "Requirement already satisfied: async-timeout<5.0,>=4.0.0a3 in /usr/local/lib/python3.10/dist-packages (from aiohttp->openai) (4.0.2)\n",
            "Requirement already satisfied: yarl<2.0,>=1.0 in /usr/local/lib/python3.10/dist-packages (from aiohttp->openai) (1.9.2)\n",
            "Requirement already satisfied: frozenlist>=1.1.1 in /usr/local/lib/python3.10/dist-packages (from aiohttp->openai) (1.4.0)\n",
            "Requirement already satisfied: aiosignal>=1.1.2 in /usr/local/lib/python3.10/dist-packages (from aiohttp->openai) (1.3.1)\n",
            "Installing collected packages: openai\n",
            "Successfully installed openai-0.27.8\n"
          ]
        }
      ],
      "source": [
        "#installation\n",
        "!pip install langchain\n",
        "#environment setup\n",
        "!pip install openai"
      ]
    },
    {
      "cell_type": "code",
      "source": [
        "#Azure\n",
        "from langchain.chat_models import AzureChatOpenAI\n",
        "from langchain.schema import HumanMessage\n",
        "from langchain.prompts.chat import (\n",
        "    ChatPromptTemplate,\n",
        "    HumanMessagePromptTemplate,\n",
        "    SystemMessagePromptTemplate,\n",
        "    AIMessagePromptTemplate,\n",
        ")\n",
        "from langchain.chains import LLMChain\n",
        "from langchain.prompts import PromptTemplate\n",
        "\n",
        "\n",
        "BASE_URL = \"https://clgenai.openai.azure.com/\"\n",
        "API_KEY = \"8e812e42bb2f453290fc48e18f8e2c39\"\n",
        "model = AzureChatOpenAI(\n",
        "    openai_api_base=BASE_URL,\n",
        "    openai_api_version=\"2023-05-15\",\n",
        "    deployment_name=\"moments\",\n",
        "    openai_api_key=API_KEY,\n",
        "    openai_api_type=\"azure\",\n",
        ")"
      ],
      "metadata": {
        "id": "emNyp4nUKv1k"
      },
      "execution_count": null,
      "outputs": []
    },
    {
      "cell_type": "code",
      "source": [
        "#importing dummy data, chatgpt generated csv files to be used by langchain\n",
        "#technically, any format works, but this was the simplest method I found to upload csvs into github and then upload directly here but it's tedious to make sure the csv is formatted correctly\n",
        "#also doesn't have to be csvs or in any specific format because langchain can read from pdfs, json, etc.\n",
        "#For integration into backend, these sections should be inputted on the cms side, maybe through langchain directly\n",
        "import pandas as pd\n",
        "import requests\n",
        "import json\n",
        "\n",
        "#USER SPECIFIC PREFERENCES\n",
        "\n",
        "url = 'https://raw.githubusercontent.com/angzla/momentsllm/main/userprofile.csv'\n",
        "user = pd.read_csv(url)\n",
        "\n",
        "\n",
        "#MAKE API CALL FOR TV LISTING HERE (using dummy data for now)\n",
        "#for future reference, refer to this documentation for making api calls with langchain\n",
        "#https://python.langchain.com/docs/use_cases/apis/api.html\n",
        "url = \"https://raw.githubusercontent.com/angzla/momentsllm/main/tvlistings.json\"\n",
        "listings = requests.get(url).json()\n",
        "\n",
        "\n",
        "#FACTS ABOUT SHOWS (should be inputted/called based on tv listings?)\n",
        "url = 'https://raw.githubusercontent.com/angzla/momentsllm/main/desparatehousewives.csv'\n",
        "tv1 = pd.read_csv(url)\n",
        "\n",
        "url = 'https://raw.githubusercontent.com/angzla/momentsllm/main/office.csv'\n",
        "tv2 = pd.read_csv(url)\n",
        "\n",
        "url = 'https://raw.githubusercontent.com/angzla/momentsllm/main/trolls.csv'\n",
        "tv3 = pd.read_csv(url)\n",
        "\n",
        "#json format\n",
        "url = \"https://raw.githubusercontent.com/angzla/momentsllm/main/questformat.json\"\n",
        "questformat = requests.get(url).json()"
      ],
      "metadata": {
        "id": "GQ4VXNjxT_O6"
      },
      "execution_count": null,
      "outputs": []
    },
    {
      "cell_type": "markdown",
      "source": [
        "#Prompt accessing data"
      ],
      "metadata": {
        "id": "iOwjagqLIeC1"
      }
    },
    {
      "cell_type": "markdown",
      "source": [
        "### not too accurate but a workable result\n",
        "I want to make this recreatable/more flexible with activites:"
      ],
      "metadata": {
        "id": "g6QseXFpIxzV"
      }
    },
    {
      "cell_type": "code",
      "source": [
        "human_message_prompt = HumanMessagePromptTemplate(\n",
        "        prompt=PromptTemplate(\n",
        "            template=\"Based on this template: {json}, create a similar file using these {facts} for these shows: {tvlistings}\",\n",
        "            input_variables=[\"tvlistings\", \"facts\", \"json\"],\n",
        "        )\n",
        "    )\n",
        "chat_prompt_template = ChatPromptTemplate.from_messages([human_message_prompt])\n",
        "chain = LLMChain(llm=model, prompt=chat_prompt_template)\n",
        "print(chain.run(tvlistings = listings, facts = [tv1, tv2, tv3], json = questformat))"
      ],
      "metadata": {
        "id": "ymkL52rq2f62",
        "colab": {
          "base_uri": "https://localhost:8080/"
        },
        "outputId": "bb28bfd9-d8a0-4908-db42-5a8e59e1b679"
      },
      "execution_count": null,
      "outputs": [
        {
          "output_type": "stream",
          "name": "stdout",
          "text": [
            "{'data': \n",
            "  [\n",
            "    {\n",
            "      'id': 1,\n",
            "      'description': 'A quirky and sweet divorcee. She navigates through life and relationships on Wisteria Lane.',\n",
            "      'startDate': '2023-08-01T20:00:00.000Z',\n",
            "      'title': 'Susan Mayer',\n",
            "      'published': False,\n",
            "      'endDate': '2023-08-31T20:00:00.000Z',\n",
            "      'featureImageurl': 'https://cdn.glitch.global/0c7d8705-5f5d-499c-b0c9-a6500b8ef0f3/susan_mayer.png?v=1689623824378',\n",
            "      'activities': [\n",
            "        {\n",
            "          'id': 1,\n",
            "          'title': 'Desperate Housewives Trivia',\n",
            "          'type': 'Trivia',\n",
            "          'entitlementUrl': None,\n",
            "          'trivia': {\n",
            "            'id': 1,\n",
            "            'title': 'Desperate Housewives',\n",
            "            'description': None,\n",
            "            'imageUrl': 'https://d1v8s23we6v87u.cloudfront.net/desperate_housewives_trivia_logo.png',\n",
            "            'backgroundColor': '0xFF3D2997',\n",
            "            'videoUrl': None,\n",
            "            'questions': [\n",
            "              {\n",
            "                'id': 1,\n",
            "                'prompt': 'Who is Susan Mayer married to at the beginning of the series?',\n",
            "                'questionType': 'Multiple Choice',\n",
            "                'imageUrl': None,\n",
            "                'hint': None,\n",
            "                'videoUrl': None,\n",
            "                'incorrectAnswers': [\n",
            "                  {'id': 1, 'response': 'Mike Delfino'},\n",
            "                  {'id': 2, 'response': 'Tom Scavo'},\n",
            "                  {'id': 3, 'response': 'Carlos Solis'}\n",
            "                ],\n",
            "                'correctAnswers': [{'id': 4, 'response': 'Karl Mayer'}]\n",
            "              },\n",
            "              {\n",
            "                'id': 2,\n",
            "                'prompt': 'Which character is a former model?',\n",
            "                'questionType': 'Multiple Choice',\n",
            "                'imageUrl': None,\n",
            "                'hint': None,\n",
            "                'videoUrl': None,\n",
            "                'incorrectAnswers': [\n",
            "                  {'id': 5, 'response': 'Lynette Scavo'},\n",
            "                  {'id': 6, 'response': 'Bree Van de Kamp'},\n",
            "                  {'id': 7, 'response': 'Gabrielle Solis'}\n",
            "                ],\n",
            "                'correctAnswers': [{'id': 8, 'response': 'Edie Britt'}]\n",
            "              },\n",
            "              {\n",
            "                'id': 3,\n",
            "                'prompt': 'Who narrates the series?',\n",
            "                'questionType': 'Multiple Choice',\n",
            "                'imageUrl': None,\n",
            "                'hint': None,\n",
            "                'videoUrl': None,\n",
            "                'incorrectAnswers': [\n",
            "                  {'id': 9, 'response': 'Lynette Scavo'},\n",
            "                  {'id': 10, 'response': 'Bree Van de Kamp'},\n",
            "                  {'id': 11, 'response': 'Gabrielle Solis'}\n",
            "                ],\n",
            "                'correctAnswers': [{'id': 12, 'response': 'Mary Alice Young'}]\n",
            "              }\n",
            "            ]\n",
            "          }\n",
            "        },\n",
            "        {\n",
            "          'id': 2,\n",
            "          'title': 'Watch Episode 1 of Desperate Housewives',\n",
            "          'type': 'Watchable',\n",
            "          'entitlementUrl': None,\n",
            "          'trivia': None\n",
            "        }\n",
            "      ]\n",
            "    },\n",
            "    {\n",
            "      'id': 2,\n",
            "      'description': 'Regional manager of Dunder Mifflin Scranton branch. Known for his awkward and hilarious moments.',\n",
            "      'startDate': '2023-08-01T22:00:00.000Z',\n",
            "      'title': 'Michael Scott',\n",
            "      'published': False,\n",
            "      'endDate': '2023-08-31T22:00:00.000Z',\n",
            "      'featureImageurl': 'https://cdn.glitch.global/0c7d8705-5f5d-499c-b0c9-a6500b8ef0f3/michael_scott.png?v=1687988899807',\n",
            "      'activities': [\n",
            "        {\n",
            "          'id': 3,\n",
            "          'title': 'The Office - Level 1 Trivia',\n",
            "          'type': 'Trivia',\n",
            "          'entitlementUrl': None,\n",
            "          'trivia': {\n",
            "            'id': 2,\n",
            "            'title': 'The Office',\n",
            "            'description': None,\n",
            "            'imageUrl': 'https://d1v8s23we6v87u.cloudfront.net/the_office_trivia_logo.png',\n",
            "            'backgroundColor': '0xFF3D2997',\n",
            "            'videoUrl': None,\n",
            "            'questions': [\n",
            "              {\n",
            "                'id': 4,\n",
            "                'prompt': 'Which character has a \"World\\'s Best Boss\" mug?',\n",
            "                'questionType': 'Multiple Choice',\n",
            "                'imageUrl': None,\n",
            "                'hint': None,\n",
            "                'videoUrl': None,\n",
            "                'incorrectAnswers': [\n",
            "                  {'id': 2, 'response': 'Dwight'},\n",
            "                  {'id': 1, 'response': 'Jim'},\n",
            "                  {'id': 4, 'response': 'Andy'}\n",
            "                ],\n",
            "                'correctAnswers': [{'id': 3, 'response': 'Michael'}]\n",
            "              },\n",
            "              {\n",
            "                'id': 6,\n",
            "                'prompt': 'I have always been your... ',\n",
            "                'questionType': 'Multiple Choice',\n",
            "                'imageUrl': None,\n",
            "                'hint': 'Season 2 - Episode 11',\n",
            "                'videoUrl': 'https://moments.comcastlabs.comcast.com/video/jello.mp4',\n",
            "                'incorrectAnswers': [\n",
            "                  {'id': 17, 'response': 'Peppery Pete'},\n",
            "                  {'id': 18, 'response': 'Closest Clam'}\n",
            "                ],\n",
            "                'correctAnswers': [{'id': 16, 'response': 'Biggest Flan'}]\n",
            "              },\n",
            "              {\n",
            "                'id': 3,\n",
            "                'prompt': 'Which character has a beet farm?',\n",
            "                'questionType': 'Multiple Choice',\n",
            "                'imageUrl': None,\n",
            "                'hint': None,\n",
            "                'videoUrl': None,\n",
            "                'incorrectAnswers': [\n",
            "                  {'id': 4, 'response': 'Andy'},\n",
            "                  {'id': 8, 'response': 'Pam'},\n",
            "                  {'id': 1, 'response': 'Jim'},\n",
            "                  {'id': 3, 'response': 'Michael'},\n",
            "                  {'id': 9, 'response': 'Kelly'}\n",
            "                ],\n",
            "                'correctAnswers': [{'id': 2, 'response': 'Dwight'}]\n",
            "              },\n",
            "              {\n",
            "                'id': 1,\n",
            "                'prompt': 'Who is the regional manager of Dunder Mifflin Scranton?',\n",
            "                'questionType': 'Multiple Choice',\n",
            "                'imageUrl': None,\n",
            "                'hint': None,\n",
            "                'videoUrl': None,\n",
            "                'incorrectAnswers': [\n",
            "                  {'id': 1, 'response': 'Jim'},\n",
            "                  {'id': 9, 'response': 'Kelly'},\n",
            "                  {'id': 8, 'response': 'Pam'}\n",
            "                ],\n",
            "                'correctAnswers': [{'id': 3, 'response': 'Michael'}]\n",
            "              }\n",
            "            ]\n",
            "          }\n",
            "        },\n",
            "        {\n",
            "          'id': 4,\n",
            "          'title': 'Watch Episode 1 of The Office',\n",
            "          'type': 'Watchable',\n",
            "          'entitlementUrl': None,\n",
            "          'trivia': None\n",
            "        }\n",
            "      ]\n",
            "    },\n",
            "    {\n",
            "      'id': 3,\n",
            "      'description': 'The optimistic and spirited Queen of the Trolls. She embarks on a journey to save her friends.',\n",
            "      'startDate': '2023-08-03T20:00:00.000Z',\n",
            "      'title': 'Poppy',\n",
            "      'published': False,\n",
            "      'endDate': '2023-08-31T20:00:00.000Z',\n",
            "      'featureImageurl': 'https://cdn.glitch.global/0c7d8705-5f5d-499c-b0c9-a6500b8ef0f3/poppy.png?v=1689623824378',\n",
            "      'activities': [\n",
            "        {\n",
            "          'id': 5,\n",
            "          'title': 'Trolls Trivia',\n",
            "          'type': 'Trivia',\n",
            "          'entitlementUrl': None,\n",
            "          'trivia': {\n",
            "            'id': 3,\n",
            "            'title': 'Trolls',\n",
            "            'description': None,\n",
            "            'imageUrl': 'https://d1v8s23we6v87u.cloudfront.net/trolls_trivia_logo.png',\n",
            "            'backgroundColor': '0xFF3D2997',\n",
            "            'videoUrl': None,\n",
            "            'questions': [\n",
            "              {\n",
            "                'id': 5,\n",
            "                'prompt': 'Who is the leader of the Techno Trolls?',\n",
            "                'questionType': 'Multiple Choice',\n",
            "                'imageUrl': None,\n",
            "                'hint': None,\n",
            "                'videoUrl': None,\n",
            "                'incorrectAnswers': [\n",
            "                  {'id': 13, 'response': 'Branch'},\n",
            "                  {'id': 14, 'response': 'Queen Barb'},\n",
            "                  {'id': 15, 'response': 'King Trollex'}\n",
            "                ],\n",
            "                'correctAnswers': [{'id': 16, 'response': 'King Peppy'}]\n",
            "              },\n",
            "              {\n",
            "                'id': 7,\n",
            "                'prompt': 'Which Troll is known for his glittery appearance?',\n",
            "                'questionType': 'Multiple Choice',\n",
            "                'imageUrl': None,\n",
            "                'hint': None,\n",
            "                'videoUrl': None,\n",
            "                'incorrectAnswers': [\n",
            "                  {'id': 17, 'response': 'Branch'},\n",
            "                  {'id': 18, 'response': 'Queen Barb'},\n",
            "                  {'id': 19, 'response': 'King Trollex'}\n",
            "                ],\n",
            "                'correctAnswers': [{'id': 20, 'response': 'Guy Diamond'}]\n",
            "              },\n",
            "              {\n",
            "                'id': 9,\n",
            "                'prompt': 'Which Troll has a giraffe-like appearance?',\n",
            "                'questionType': 'Multiple Choice',\n",
            "                'imageUrl': None,\n",
            "                'hint': None,\n",
            "                'videoUrl': None,\n",
            "                'incorrectAnswers': [\n",
            "                  {'id': 21, 'response': 'Branch'},\n",
            "                  {'id': 22, 'response': 'Queen Barb'},\n",
            "                  {'id': 23, 'response': 'King Trollex'}\n",
            "                ],\n",
            "                'correctAnswers': [{'id': 24, 'response': 'Cooper'}]\n",
            "              }\n",
            "            ]\n",
            "          }\n",
            "        },\n",
            "        {\n",
            "          'id': 6,\n",
            "          'title': 'Watch Trolls',\n",
            "          'type': 'Watchable',\n",
            "          'entitlementUrl': None,\n",
            "          'trivia': None\n",
            "        }\n",
            "      ]\n",
            "    }\n",
            "  ],\n",
            "  'meta': {'pagination': {'page': 1, 'pageSize': 25, 'pageCount': 1, 'total': 2}}\n",
            "}\n"
          ]
        }
      ]
    },
    {
      "cell_type": "markdown",
      "source": [
        "### first run\n",
        "not super relevant"
      ],
      "metadata": {
        "id": "JOhKYPEUI-UI"
      }
    },
    {
      "cell_type": "code",
      "source": [
        "human_message_prompt = HumanMessagePromptTemplate(\n",
        "        prompt=PromptTemplate(\n",
        "            template=\"What trivia can be generated for {content} in json format with correct answers?\",\n",
        "            input_variables=[\"content\"],\n",
        "        )\n",
        "    )\n",
        "chat_prompt_template = ChatPromptTemplate.from_messages([human_message_prompt])\n",
        "chain = LLMChain(llm=model, prompt=chat_prompt_template)\n",
        "print(chain.run(\"The Office\"))\n",
        "\n",
        "#based off of facts that we input\n",
        "  #create and pull publicly accessible csvs for facts for a lot of different shows\n",
        "#tv listings for which show should content be generated for\n",
        "#structure JSON"
      ],
      "metadata": {
        "colab": {
          "base_uri": "https://localhost:8080/"
        },
        "id": "7ZM3Ncm_xBWl",
        "outputId": "f0300568-f74a-4ffc-8928-e8c3a80cba07"
      },
      "execution_count": null,
      "outputs": [
        {
          "output_type": "stream",
          "name": "stdout",
          "text": [
            "Here's an example of trivia questions about The Office in JSON format with correct answers:\n",
            "\n",
            "```json\n",
            "{\n",
            "  \"trivia\": [\n",
            "    {\n",
            "      \"question\": \"Who is the regional manager of Dunder Mifflin Scranton branch?\",\n",
            "      \"answer\": \"Michael Scott\"\n",
            "    },\n",
            "    {\n",
            "      \"question\": \"What is the name of the company that buys Dunder Mifflin in the final season?\",\n",
            "      \"answer\": \"Sabre\"\n",
            "    },\n",
            "    {\n",
            "      \"question\": \"What is the name of Angela's cat that Dwight killed?\",\n",
            "      \"answer\": \"Sprinkles\"\n",
            "    },\n",
            "    {\n",
            "      \"question\": \"Which character has a beet farm?\",\n",
            "      \"answer\": \"Dwight Schrute\"\n",
            "    },\n",
            "    {\n",
            "      \"question\": \"Who is Pam Beesly's husband?\",\n",
            "      \"answer\": \"Jim Halpert\"\n",
            "    },\n",
            "    {\n",
            "      \"question\": \"What is the name of the documentary crew in The Office?\",\n",
            "      \"answer\": \"The Office: An American Workplace\"\n",
            "    },\n",
            "    {\n",
            "      \"question\": \"Which character often says 'That's what she said'?\",\n",
            "      \"answer\": \"Michael Scott\"\n",
            "    },\n",
            "    {\n",
            "      \"question\": \"What branch does Jim transfer to after Pam breaks off their engagement?\",\n",
            "      \"answer\": \"Stamford\"\n",
            "    },\n",
            "    {\n",
            "      \"question\": \"Who starts the fire in the office?\",\n",
            "      \"answer\": \"Ryan Howard\"\n",
            "    },\n",
            "    {\n",
            "      \"question\": \"Where does Jim propose to Pam?\",\n",
            "      \"answer\": \"Gas Station\"\n",
            "    }\n",
            "  ]\n",
            "}\n",
            "```\n",
            "\n",
            "Feel free to add more questions or modify the existing ones as per your requirements!\n"
          ]
        }
      ]
    },
    {
      "cell_type": "markdown",
      "source": [
        "## Generating a quest with personal user data"
      ],
      "metadata": {
        "id": "0XxTnTOPfXP1"
      }
    },
    {
      "cell_type": "markdown",
      "source": [
        "This was the best result, but format + information is still not the most accurate or linked together but it's getting there!"
      ],
      "metadata": {
        "id": "LJIaidBSiqBT"
      }
    },
    {
      "cell_type": "code",
      "source": [
        "human_message_prompt = HumanMessagePromptTemplate(\n",
        "        prompt=PromptTemplate(\n",
        "            template=\"Based on this template for a quest: {json}, create a new json with similar personal activities specific to this user's favorites: {userprofile}\",\n",
        "            input_variables=[\"json\", \"userprofile\"],\n",
        "        )\n",
        "    )\n",
        "chat_prompt_template = ChatPromptTemplate.from_messages([human_message_prompt])\n",
        "chain = LLMChain(llm=model, prompt=chat_prompt_template)\n",
        "print(chain.run(json = questformat, userprofile = user))"
      ],
      "metadata": {
        "colab": {
          "base_uri": "https://localhost:8080/"
        },
        "id": "aIYg6reIfbdB",
        "outputId": "761da9e1-f52c-4c0d-b4f4-d08a77f70538"
      },
      "execution_count": null,
      "outputs": [
        {
          "output_type": "stream",
          "name": "stdout",
          "text": [
            "{\n",
            "  \"user\": {\n",
            "    \"name\": \"John Doe\",\n",
            "    \"age\": 32,\n",
            "    \"location\": \"Philadelphia PA\",\n",
            "    \"favorites\": {\n",
            "      \"sports\": [\n",
            "        {\n",
            "          \"category\": \"Baseball\",\n",
            "          \"teams\": [\n",
            "            \"Philadelphia Phillies\"\n",
            "          ],\n",
            "          \"players\": [\n",
            "            \"Mike Schmidt\",\n",
            "            \"Chase Utley\"\n",
            "          ]\n",
            "        },\n",
            "        {\n",
            "          \"category\": \"Basketball\",\n",
            "          \"teams\": [\n",
            "            \"Philadelphia 76ers\"\n",
            "          ],\n",
            "          \"players\": [\n",
            "            \"Allen Iverson\",\n",
            "            \"Joel Embiid\"\n",
            "          ]\n",
            "        }\n",
            "      ],\n",
            "      \"sportsTriviaInterest\": \"High\",\n",
            "      \"sportsNewsSources\": [\n",
            "        \"ESPN\",\n",
            "        \"Sports Illustrated\"\n",
            "      ],\n",
            "      \"preferredSportsVideoGames\": [\n",
            "        \"MLB The Show\",\n",
            "        \"NBA 2K\"\n",
            "      ]\n",
            "    }\n",
            "  },\n",
            "  \"activities\": [\n",
            "    {\n",
            "      \"title\": \"Philadelphia Phillies - Level 1 Trivia\",\n",
            "      \"type\": \"Trivia\",\n",
            "      \"entitlementUrl\": null,\n",
            "      \"trivia\": {\n",
            "        \"id\": 1,\n",
            "        \"title\": \"Philadelphia Phillies\",\n",
            "        \"description\": null,\n",
            "        \"imageUrl\": \"https://cdn.glitch.global/0c7d8705-5f5d-499c-b0c9-a6500b8ef0f3/phillies_trivia_logo.png\",\n",
            "        \"backgroundColor\": \"0xFF3D2997\",\n",
            "        \"videoUrl\": null,\n",
            "        \"questions\": [\n",
            "          {\n",
            "            \"id\": 1,\n",
            "            \"prompt\": \"Which player holds the record for most home runs in Philadelphia Phillies history?\",\n",
            "            \"questionType\": \"Multiple Choice\",\n",
            "            \"imageUrl\": null,\n",
            "            \"hint\": null,\n",
            "            \"videoUrl\": null,\n",
            "            \"incorrectAnswers\": [\n",
            "              {\n",
            "                \"id\": 2,\n",
            "                \"response\": \"Chase Utley\"\n",
            "              },\n",
            "              {\n",
            "                \"id\": 3,\n",
            "                \"response\": \"Jimmy Rollins\"\n",
            "              }\n",
            "            ],\n",
            "            \"correctAnswers\": [\n",
            "              {\n",
            "                \"id\": 1,\n",
            "                \"response\": \"Mike Schmidt\"\n",
            "              }\n",
            "            ]\n",
            "          },\n",
            "          {\n",
            "            \"id\": 2,\n",
            "            \"prompt\": \"In what year did the Philadelphia Phillies win their first World Series?\",\n",
            "            \"questionType\": \"Multiple Choice\",\n",
            "            \"imageUrl\": null,\n",
            "            \"hint\": null,\n",
            "            \"videoUrl\": null,\n",
            "            \"incorrectAnswers\": [\n",
            "              {\n",
            "                \"id\": 4,\n",
            "                \"response\": \"1983\"\n",
            "              },\n",
            "              {\n",
            "                \"id\": 5,\n",
            "                \"response\": \"1992\"\n",
            "              }\n",
            "            ],\n",
            "            \"correctAnswers\": [\n",
            "              {\n",
            "                \"id\": 3,\n",
            "                \"response\": \"1980\"\n",
            "              }\n",
            "            ]\n",
            "          }\n",
            "        ]\n",
            "      }\n",
            "    },\n",
            "    {\n",
            "      \"title\": \"Philadelphia 76ers - Level 1 Trivia\",\n",
            "      \"type\": \"Trivia\",\n",
            "      \"entitlementUrl\": null,\n",
            "      \"trivia\": {\n",
            "        \"id\": 2,\n",
            "        \"title\": \"Philadelphia 76ers\",\n",
            "        \"description\": null,\n",
            "        \"imageUrl\": \"https://cdn.glitch.global/0c7d8705-5f5d-499c-b0c9-a6500b8ef0f3/76ers_trivia_logo.png\",\n",
            "        \"backgroundColor\": \"0xFFED174C\",\n",
            "        \"videoUrl\": null,\n",
            "        \"questions\": [\n",
            "          {\n",
            "            \"id\": 1,\n",
            "            \"prompt\": \"Which player holds the record for most points scored in a single game for the Philadelphia 76ers?\",\n",
            "            \"questionType\": \"Multiple Choice\",\n",
            "            \"imageUrl\": null,\n",
            "            \"hint\": null,\n",
            "            \"videoUrl\": null,\n",
            "            \"incorrectAnswers\": [\n",
            "              {\n",
            "                \"id\": 2,\n",
            "                \"response\": \"Allen Iverson\"\n",
            "              },\n",
            "              {\n",
            "                \"id\": 3,\n",
            "                \"response\": \"Julius Erving\"\n",
            "              }\n",
            "            ],\n",
            "            \"correctAnswers\": [\n",
            "              {\n",
            "                \"id\": 1,\n",
            "                \"response\": \"Wilt Chamberlain\"\n",
            "              }\n",
            "            ]\n",
            "          },\n",
            "          {\n",
            "            \"id\": 2,\n",
            "            \"prompt\": \"Which year did the Philadelphia 76ers win their most recent NBA Championship?\",\n",
            "            \"questionType\": \"Multiple Choice\",\n",
            "            \"imageUrl\": null,\n",
            "            \"hint\": null,\n",
            "            \"videoUrl\": null,\n",
            "            \"incorrectAnswers\": [\n",
            "              {\n",
            "                \"id\": 4,\n",
            "                \"response\": \"2000\"\n",
            "              },\n",
            "              {\n",
            "                \"id\": 5,\n",
            "                \"response\": \"2005\"\n",
            "              }\n",
            "            ],\n",
            "            \"correctAnswers\": [\n",
            "              {\n",
            "                \"id\": 3,\n",
            "                \"response\": \"1983\"\n",
            "              }\n",
            "            ]\n",
            "          }\n",
            "        ]\n",
            "      }\n",
            "    },\n",
            "    {\n",
            "      \"title\": \"Watch MLB The Show Gameplay\",\n",
            "      \"type\": \"Watchable\",\n",
            "      \"entitlementUrl\": null,\n",
            "      \"trivia\": null\n",
            "    },\n",
            "    {\n",
            "      \"title\": \"Watch NBA 2K Gameplay\",\n",
            "      \"type\": \"Watchable\",\n",
            "      \"entitlementUrl\": null,\n",
            "      \"trivia\": null\n",
            "    }\n",
            "  ]\n",
            "}\n"
          ]
        }
      ]
    },
    {
      "cell_type": "markdown",
      "source": [
        "# Strictly formatting the output"
      ],
      "metadata": {
        "id": "DIs6HPYhqzmS"
      }
    },
    {
      "cell_type": "code",
      "source": [
        "from langchain.output_parsers import PydanticOutputParser\n",
        "from pydantic import BaseModel, Field, validator\n",
        "from typing import List"
      ],
      "metadata": {
        "id": "5iDpV_OHBBDT"
      },
      "execution_count": null,
      "outputs": []
    },
    {
      "cell_type": "code",
      "source": [
        "#should figure out how to nest this?\n",
        "class Quest(BaseModel):\n",
        "    Show: str = Field(description=\"Name of show\")\n",
        "    activities: List[str] = Field(description=\"list of engagement activities like watching an episode or a trivia a fan can do to win rewards\")\n",
        "    trivias: List[str] = Field(description=\"list of trivia questions a fan can do to win rewards\")\n",
        "    correct_answers: List[str] = Field(description=\"list of correct answers to the questions\")\n",
        "\n",
        "\n",
        "quest_query = \"Generate activities and trivia for a fan of The Office\"\n",
        "\n",
        "parser = PydanticOutputParser(pydantic_object=Quest)\n",
        "\n",
        "\n",
        "human_message_prompt = HumanMessagePromptTemplate(\n",
        "    prompt = PromptTemplate(\n",
        "    template=\"Answer the user query.\\n{format_instructions}\\n{query}\\n\",\n",
        "    input_variables=[\"query\"],\n",
        "    partial_variables={\"format_instructions\": parser.get_format_instructions()},\n",
        ")\n",
        "    )\n",
        "chat_prompt_template = ChatPromptTemplate.from_messages([human_message_prompt])\n",
        "chain = LLMChain(llm=model, prompt=chat_prompt_template)\n",
        "\n",
        "output = chain.run(quest_query)\n",
        "\n",
        "parser.parse(output)"
      ],
      "metadata": {
        "colab": {
          "base_uri": "https://localhost:8080/"
        },
        "id": "lKyEazmaFnld",
        "outputId": "b8d94338-99e8-4537-9d9c-37837ab4090b"
      },
      "execution_count": null,
      "outputs": [
        {
          "output_type": "execute_result",
          "data": {
            "text/plain": [
              "Quest(Show='The Office', activities=['Watch an episode', 'Participate in a Office-themed trivia night'], trivias=['What is the name of the fictional paper company in The Office?', 'Who is the regional manager of Dunder Mifflin Scranton?'], correct_answers=['Dunder Mifflin', 'Michael Scott'])"
            ]
          },
          "metadata": {},
          "execution_count": 67
        }
      ]
    },
    {
      "cell_type": "markdown",
      "source": [
        "# Trying to write a function (without agents)"
      ],
      "metadata": {
        "id": "3SRWGQOO7gQ8"
      }
    },
    {
      "cell_type": "markdown",
      "source": [
        "## Separate calls to each file"
      ],
      "metadata": {
        "id": "UyyNu-8d8u8G"
      }
    },
    {
      "cell_type": "code",
      "source": [
        "human_message_prompt = HumanMessagePromptTemplate(\n",
        "        prompt=PromptTemplate(\n",
        "            template=\"For this week's {tvlistings}, what movies, shows, sports are airing?\",\n",
        "            input_variables=[\"tvlistings\"],\n",
        "        )\n",
        "    )\n",
        "chat_prompt_template = ChatPromptTemplate.from_messages([human_message_prompt])\n",
        "chain = LLMChain(llm=model, prompt=chat_prompt_template)\n",
        "print(chain.run(tvlistings = listings))"
      ],
      "metadata": {
        "colab": {
          "base_uri": "https://localhost:8080/"
        },
        "id": "GiVRQxUM7Qap",
        "outputId": "ac922b04-c8f5-4163-a57c-6d55a1d89dc5"
      },
      "execution_count": null,
      "outputs": [
        {
          "output_type": "stream",
          "name": "stdout",
          "text": [
            "The movies, shows, and sports airing for this week are:\n",
            "\n",
            "1. Movie - Trolls: The Beat Goes On!\n",
            "   - Listing ID: 5\n",
            "   - Start Time: 2023-08-02T19:00:00\n",
            "   - End Time: 2023-08-02T20:00:00\n",
            "   - Station ID: ABC\n",
            "\n",
            "2. Movie - Trolls: The Beat Goes On!\n",
            "   - Listing ID: 6\n",
            "   - Start Time: 2023-08-02T20:00:00\n",
            "   - End Time: 2023-08-02T21:00:00\n",
            "   - Station ID: ABC\n",
            "\n",
            "3. Movie - Trolls: The Beat Goes On!\n",
            "   - Listing ID: 7\n",
            "   - Start Time: 2023-08-05T21:00:00\n",
            "   - End Time: 2023-08-05T22:00:00\n",
            "   - Station ID: ABC\n",
            "\n",
            "4. Sports - Live Baseball: Philadelphia Phillies vs. New York Mets\n",
            "   - Listing ID: 8\n",
            "   - Start Time: 2023-08-06T13:00:00\n",
            "   - End Time: 2023-08-06T16:00:00\n",
            "   - Station ID: ESPN\n",
            "\n",
            "5. Sports - Live Basketball: Philadelphia 76ers vs. Boston Celtics\n",
            "   - Listing ID: 9\n",
            "   - Start Time: 2023-08-07T19:30:00\n",
            "   - End Time: 2023-08-07T22:30:00\n",
            "   - Station ID: NBA TV\n"
          ]
        }
      ]
    },
    {
      "cell_type": "code",
      "source": [
        "human_message_prompt = HumanMessagePromptTemplate(\n",
        "        prompt=PromptTemplate(\n",
        "            template=\"Create trivia based off of these {facts}\",\n",
        "            input_variables=[\"facts\"],\n",
        "        )\n",
        "    )\n",
        "chat_prompt_template = ChatPromptTemplate.from_messages([human_message_prompt])\n",
        "chain = LLMChain(llm=model, prompt=chat_prompt_template)\n",
        "print(chain.run(facts = [tv1, tv2, tv3]))"
      ],
      "metadata": {
        "colab": {
          "base_uri": "https://localhost:8080/"
        },
        "id": "sORq5eXj7kpk",
        "outputId": "065928b1-f048-4b92-d58d-0da68ab40e3c"
      },
      "execution_count": null,
      "outputs": [
        {
          "output_type": "stream",
          "name": "stdout",
          "text": [
            "Trivia Questions:\n",
            "\n",
            "1. Which Desperate Housewives character is a quirky and sweet divorcee?\n",
            "- Susan Mayer\n",
            "\n",
            "2. Who is Lynette Scavo in Desperate Housewives?\n",
            "- Lynette Scavo is a harried mother of four who tries to balance her family life and career.\n",
            "\n",
            "3. What is Bree Van de Kamp known for in Desperate Housewives?\n",
            "- Bree Van de Kamp is a perfectionist homemaker with a secret dark side.\n",
            "\n",
            "4. Who is Gabrielle Solis in Desperate Housewives?\n",
            "- Gabrielle Solis is a glamorous former model who struggles with her marriage and personal life.\n",
            "\n",
            "5. Which character in Desperate Housewives is a seductive and independent real estate agent?\n",
            "- Edie Britt\n",
            "\n",
            "6. Who is the mysterious narrator in Desperate Housewives?\n",
            "- Mary Alice Young\n",
            "\n",
            "7. Who is Carlos Solis in Desperate Housewives?\n",
            "- Carlos Solis is Gabrielle's wealthy and possessive husband.\n",
            "\n",
            "8. Who is Tom Scavo in Desperate Housewives?\n",
            "- Tom Scavo is Lynette's husband who supports her through the challenges of raising their four children.\n",
            "\n",
            "9. Who is Mike Delfino in Desperate Housewives?\n",
            "- Mike Delfino is a handsome plumber with a dark past who becomes involved in the lives of the housewives.\n",
            "\n",
            "10. Who is Orson Hodge in Desperate Housewives?\n",
            "- Orson Hodge is Bree's second husband who harbors his own secrets.\n",
            "\n",
            "11. Who is the first husband of Bree Van de Kamp in Desperate Housewives?\n",
            "- Rex Van de Kamp\n",
            "\n",
            "12. Who is Katherine Mayfair in Desperate Housewives?\n",
            "- Katherine Mayfair is a former Wisteria Lane resident who returns bringing her own secrets and drama.\n",
            "\n",
            "13. What is the notable quote from Desperate Housewives: \"I'm not here to make life perfect. The candle's out. I'm not lighting it again.\"?\n",
            "- This quote is from the pilot episode of Desperate Housewives.\n",
            "\n",
            "14. Which episode of Desperate Housewives is titled \"Move On\"?\n",
            "- \"Move On\" is the title of the third episode of Season 1.\n",
            "\n",
            "15. In which episode of Desperate Housewives does the quote \"Nice She Ain't\" appear?\n",
            "- \"Nice She Ain't\" is the title of the nineteenth episode of Season 1.\n",
            "\n",
            "16. Which episode of Desperate Housewives is titled \"Come Back to Me\"?\n",
            "- \"Come Back to Me\" is the title of the twenty-first episode of Season 1.\n",
            "\n",
            "17. In which episode of Desperate Housewives does the quote \"No One Is Alone\" appear?\n",
            "- \"No One Is Alone\" is the title of the twenty-second episode of Season 1.\n",
            "\n",
            "18. Which episode of Desperate Housewives is titled \"Children and Art\"?\n",
            "- \"Children and Art\" is the title of the twenty-first episode of Season 7.\n",
            "\n",
            "19. What is the fun fact about Desperate Housewives?\n",
            "- The series begins with the mysterious suicide of Mary Alice Young.\n",
            "\n",
            "20. What is the fun fact about Desperate Housewives: Behind the Title?\n",
            "- Each episode title is a reference to a Stephen Sondheim song.\n",
            "\n",
            "21. What is the symbolism behind the apple in Desperate Housewives?\n",
            "- Throughout the series, apples are often used as symbols of temptation, sin, and secrets.\n",
            "\n",
            "22. Which Desperate Housewives actress published a cookbook?\n",
            "- Eva Longoria, who played Gabrielle Solis, published a cookbook.\n",
            "\n",
            "23. What is the notable episode in Desperate Housewives: \"Bang\"?\n",
            "- \"Bang\" is the title of the fifth episode of Season 1, revealing a shocking incident.\n",
            "\n",
            "24. Which episode of Desperate Housewives features a tornado hitting Wisteria Lane?\n",
            "- \"Bang\" is the title of the seventh episode of Season 3, where a tornado hits Wisteria Lane.\n",
            "\n",
            "25. In which episode of Desperate Housewives do the characters envision their lives in the future?\n",
            "- \"Something's Coming\" is the title of the ninth episode of Season 6, where the characters envision their lives in the future.\n",
            "\n",
            "26. What is the title of the series finale episode of Desperate Housewives?\n",
            "- \"Finishing the Hat\" is the title of the twenty-third episode of Season 8, which wraps up the storylines of the series.\n",
            "\n",
            "27. What is the plot synopsis of Desperate Housewives?\n",
            "- Desperate Housewives follows the lives of four women in the suburban neighborhood of Wisteria Lane as they navigate love, friendship, secrets, and scandals.\n",
            "\n",
            "28. What happens in Season 1 of Desperate Housewives?\n",
            "- Season 1 of Desperate Housewives begins with the mysterious suicide of Mary Alice Young and introduces the quirky personalities of the housewives.\n",
            "\n",
            "29. What happens in Season 2 of Desperate Housewives?\n",
            "- The aftermath of Martha Huber's murder affects the lives of the housewives in Season 2.\n",
            "\n",
            "30. What happens in Season 3 of Desperate Housewives?\n",
            "- Season 3 of Desperate Housewives explores the aftermath of the tornado that hits Wisteria Lane, leading to chaos and personal revelations.\n",
            "\n",
            "Trivia Questions:\n",
            "\n",
            "1. Who is the regional manager of Dunder Mifflin's Scranton branch in The Office?\n",
            "- Michael Scott\n",
            "\n",
            "2. Which character in The Office is known for his pranks on Dwight?\n",
            "- Jim Halpert\n",
            "\n",
            "3. Who is Pam Beesly in The Office?\n",
            "- Pam Beesly is the receptionist turned saleswoman at Dunder Mifflin.\n",
            "\n",
            "4. Who is Dwight Schrute in The Office?\n",
            "- Dwight Schrute is the assistant to the regional manager who is eccentric and obsessed with authority.\n",
            "\n",
            "5. Who is Angela Martin in The Office?\n",
            "- Angela Martin is the head of the Party Planning Committee and known for her prim and calculating nature.\n",
            "\n",
            "6. Who is Kelly Kapoor in The Office?\n",
            "- Kelly Kapoor is a customer service representative who is obsessed with pop culture and her own image.\n",
            "\n",
            "7. Who is Stanley Hudson in The Office?\n",
            "- Stanley Hudson is a crossword puzzle enthusiast and sales representative at Dunder Mifflin.\n",
            "\n",
            "8. Who is Ryan Howard in The Office?\n",
            "- Ryan Howard starts as a temp at Dunder Mifflin and eventually becomes involved in the corporate side of the company.\n",
            "\n",
            "9. Who is Oscar Martinez in The Office?\n",
            "- Oscar Martinez is an accountant at Dunder Mifflin who is openly gay and often the voice of reason.\n",
            "\n",
            "10. Who is Meredith Palmer in The Office?\n",
            "- Meredith Palmer is a representative from the purchasing department known for her wild and inappropriate behavior.\n",
            "\n",
            "11. What is the notable quote from The Office: \"That's what she said.\"?\n",
            "- This quote is frequently used by Michael Scott in various episodes of The Office.\n",
            "\n",
            "12. What is the notable quote from The Office: \"Bears. Beets. Battlestar Galactica.\"?\n",
            "- This quote is from Jim Halpert, imitating Dwight Schrute's love for bears, beets, and the TV show Battlestar Galactica.\n",
            "\n",
            "13. What is the notable quote from The Office: \"Identity theft is not a joke Jim! Millions of families suffer every year!\"?\n",
            "- This quote is from Dwight Schrute in response to Jim's prank involving identity theft.\n",
            "\n",
            "14. What is the notable quote from The Office: \"I'm not superstitious but I am a little stitious.\"?\n",
            "- This quote is from Michael Scott, showing his irrational beliefs and quirks.\n",
            "\n",
            "15. What is the notable quote from The Office: \"I declare bankruptcy!\"?\n",
            "- This quote is from Michael Scott, attempting to declare bankruptcy without understanding the legal process.\n",
            "\n",
            "16. What is the notable quote from The Office: \"I'm not crying. I'm just allergic to jerks.\"?\n",
            "- This quote is from Pam Beesly, trying to hide her emotions in a humorous way.\n",
            "\n",
            "17. What is the notable quote from The Office: \"I love inside jokes. I'd love to be a part of one someday.\"?\n",
            "- This quote is from Michael Scott, expressing his desire to be included in the inside jokes of his employees.\n",
            "\n",
            "18. What is the notable quote from The Office: \"I'm not a hero. I'm a high-functioning sociopath.\"?\n",
            "- This quote is from Dwight Schrute, jokingly referring to himself as a high-functioning sociopath.\n",
            "\n",
            "19. What is the notable quote from The Office: \"Sometimes I'll start a sentence and I don't even know where it's going. I just hope I find it along the way.\"?\n",
            "- This quote is from Michael Scott, known for his rambling and often nonsensical speeches.\n",
            "\n",
            "20. What is the Easter Egg in The Office?\n",
            "- The Easter Egg refers to hidden references and inside jokes that can be found throughout the show.\n",
            "\n",
            "21. What is the Princess Unicorn Doll in The Office?\n",
            "- The Princess Unicorn Doll is a fictional children's toy that becomes a recurring gag in the show.\n",
            "\n",
            "22. How many appearances does Mose, Dwight's cousin, make in The Office?\n",
            "- Mose, Dwight's cousin, often appears in the background or in special episodes.\n",
            "\n",
            "23. What is Schrute Farms Beet Juice in The Office?\n",
            "- Schrute Farms Beet Juice is a recurring product mentioned in the show, highlighting Dwight's beet farm.\n",
            "\n",
            "24. What is the notable episode in The Office: \"Dinner Party\"?\n",
            "- \"Dinner Party\" is the thirteenth episode of Season 4, known for its awkward and uncomfortable dinner party hosted by Michael Scott.\n",
            "\n",
            "25. What is the notable episode in The Office: \"Stress Relief\"?\n",
            "- \"Stress Relief\" is a two-part episode in Season 5 (Episodes 14-15) known for its fire safety drill and the CPR dummy scene.\n",
            "\n",
            "26. What is the notable episode in The Office: \"Goodbye Michael\"?\n",
            "- \"Goodbye Michael\" is a two-part episode in Season 7 (Episodes 21-22) that focuses on Michael Scott's emotional farewell as he leaves Dunder Mifflin.\n",
            "\n",
            "27. What is the notable episode in The Office: \"Niagara\"?\n",
            "- \"Niagara\" is a two-part episode in Season 6 (Episode 4-5) that showcases Jim and Pam's wedding at Niagara Falls.\n",
            "\n",
            "28. What is the fun fact about The Office?\n",
            "- The Office is known for its unique blend of comedy and documentary-style filming, creating a mockumentary format.\n",
            "\n",
            "29. What is the fun fact about The Office: Cameo Appearances?\n",
            "- The Office features a range of famous guest stars and cameo appearances throughout its run.\n",
            "\n",
            "30. What is the fun fact about The Office: Creative Use of Troll Hair?\n",
            "- Trolls movies are known for their creative use of troll hair, which can be shaped and used as musical instruments.\n",
            "\n",
            "31. What is the fun fact about The Office: Hidden Details in Animation?\n",
            "- The animation in Trolls movies is filled with hidden details and easter eggs that can be discovered upon closer inspection.\n",
            "\n",
            "32. What is the fun fact about The Office: Facts About Songs?\n",
            "- The Trolls movies feature a variety of catchy songs, including \"Can't Stop the Feeling!\" by Justin Timberlake and \"One More Time One More Time\" by Daft Punk.\n",
            "\n",
            "33. What is the notable episode in Trolls: \"Trolls\"?\n",
            "- \"Trolls\" is the title of the movie, where Poppy and Branch go on a journey to rescue their friends from the Bergens.\n",
            "\n",
            "34. What is the notable episode in Trolls: \"Trolls World Tour\"?\n",
            "- \"Trolls World Tour\" is the title of the sequel, where Poppy and Branch learn that their world is bigger and more diverse than they imagined.\n",
            "\n",
            "35. What is the notable quote from Trolls: \"Happiness isn't something you put inside; it's already there. Sometimes you just need someone to help you find it.\"?\n",
            "- This quote is from Poppy, emphasizing the importance of finding happiness within oneself.\n",
            "\n",
            "36. What is the notable quote from Trolls: \"I don't trust food that poops.\" - Branch?\n",
            "- This quote is from Branch, highlighting his cautious and skeptical nature.\n",
            "\n",
            "37. What is the notable quote from Trolls World Tour: \"World domination can be fun!\" - Queen Barb?\n",
            "- This quote is from Queen Barb, expressing her desire for power and control.\n",
            "\n",
            "38. What is the notable quote from Trolls World Tour: \"Hey, I know what'll cheer you up! A little music!\"?\n",
            "- This quote is from Poppy, suggesting that music can bring joy and uplift the spirits.\n",
            "\n",
            "39. What is the notable quote from Trolls World Tour: \"Listen Barb, I don't know what you're up to, but I'm pretty sure it's against the rules.\"?\n",
            "- This quote is from Branch, warning Queen Barb about her suspicious actions.\n",
            "\n",
            "40. What is the notable quote from Trolls World Tour: \"Cooper, you're unique! Embrace it! Show 'em what you got!\"?\n",
            "- This quote is from Poppy, encouraging Cooper to embrace his uniqueness and showcase his talents.\n",
            "\n",
            "41. What is the notable quote from Trolls World Tour: \"Sometimes silence is a really good answer.\" - Branch?\n",
            "- This quote is from Branch, highlighting the power of silence and choosing not to engage in unnecessary conversations.\n",
            "\n",
            "42. What is the notable quote from Trolls World Tour: \"Trolls. Trolls. Trolls. Trolls.\"?\n",
            "- This quote is from the song \"Trolls\" in Trolls World Tour, emphasizing the repetition and catchy nature of the music.\n",
            "\n",
            "43. What is the notable quote from Trolls World Tour: \"One more time, one more time.\" - Daft Punk?\n",
            "- This quote is from the song \"One More Time One More Time\" by Daft Punk in Trolls World Tour, repeating the phrase for emphasis.\n",
            "\n",
            "44. What is the notable quote from Trolls World Tour: \"Rock you like a hurricane. Here I am!\"?\n",
            "- This quote is from the song \"Rock You Like a Hurricane\" in Trolls World Tour, referencing the famous rock anthem.\n",
            "\n",
            "45. What is the notable quote from Trolls World Tour: \"Good times roll. Let the good times roll!\"?\n",
            "- This quote is from the song \"Good Times Roll\" in Trolls World Tour, emphasizing the enjoyment and celebration of good times.\n",
            "\n",
            "46. What is the notable quote from Trolls World Tour: \"It's all love. It's all love. It's all love.\"?\n",
            "- This quote is from the song \"It's All Love (History of Funk)\" in Trolls World Tour, highlighting the theme of love and unity.\n",
            "\n",
            "47. What is the plot synopsis of Trolls?\n",
            "- Trolls follows the adventure of Poppy and Branch as they embark on a mission to save their friends from the Bergens, who eat trolls to experience happiness.\n",
            "\n",
            "48. What is the plot synopsis of Trolls World Tour?\n",
            "- Trolls World Tour explores the discovery of different troll tribes, each representing a specific genre of music, and the conflict that arises when Queen Barb seeks to unite them under her rule.\n",
            "\n",
            "49. How many music varieties are represented in Trolls World Tour?\n",
            "- Trolls World Tour showcases six different music varieties, each represented by a unique troll tribe.\n",
            "\n",
            "50. What is the notable episode in Trolls World Tour: \"Tiny Diamond's Beatboxing\"?\n",
            "- \"Tiny Diamond's Beatboxing\" is a memorable scene in Trolls World Tour, featuring the beatboxing skills of the character Tiny Diamond.\n",
            "\n",
            "51. What is the notable episode in Trolls World Tour: \"Can't Stop the Feeling! Chart-Topping Success\"?\n",
            "- \"Can't Stop the Feeling!\" is a chart-topping song by Justin Timberlake featured in Trolls World Tour.\n",
            "\n",
            "52. What is the notable episode in Trolls World Tour: \"Branch's True Colors Transformation\"?\n",
            "- \"Branch's True Colors Transformation\" refers to the character arc of Branch in Trolls World Tour, where he embraces his true self and becomes more colorful.\n",
            "\n",
            "53. How many cameo appearances are there in Trolls World Tour?\n",
            "- Trolls World Tour features a range of famous musicians who provide the voices for the different troll tribes.\n",
            "\n",
            "54. What is the notable episode in Trolls World Tour: \"Creative Use of Troll Hair\"?\n",
            "- \"Creative Use of Troll Hair\" refers to the various ways in which trolls use their vibrant hair as musical instruments and creative tools.\n",
            "\n",
            "55. What is the notable episode in Trolls World Tour: \"Hidden Details in Animation\"?\n",
            "- \"Hidden Details in Animation\" refers to the intricate details and easter eggs that can be discovered in the animation of Trolls World Tour.\n",
            "\n",
            "56. What is the notable episode in Trolls World Tour: \"Facts About Songs\"?\n",
            "- \"Facts About Songs\" explores the behind-the-scenes details and inspirations behind the songs featured in Trolls World Tour.\n",
            "\n",
            "57. What is the notable episode in Trolls World Tour: \"Can't Stop the Feeling! Can't Stop the Feeling!\"?\n",
            "- \"Can't Stop the Feeling!\" is a song by Justin Timberlake featured in Trolls World Tour, known for its catchy and uplifting nature.\n",
            "\n",
            "58. What is the notable episode in Trolls World Tour: \"One More Time One More Time\" by Daft Punk?\n",
            "- \"One More Time One More Time\" is a song by Daft Punk featured in Trolls World Tour, known for its repetitive and danceable beats.\n",
            "\n",
            "59. What is the notable episode in Trolls World Tour: \"Rock You Like a Hurricane Rock You Like a Hurricane\"?\n",
            "- \"Rock You Like a Hurricane\" is a key rock anthem in Trolls World Tour, encompassing the energy and spirit of rock music.\n",
            "\n",
            "60. What is the notable episode in Trolls World Tour: \"Good Times Roll Good Times Roll\" by The Cars?\n",
            "- \"Good Times Roll\" is a song by The Cars featured in Trolls World Tour, capturing the essence of good times and enjoyment.\n",
            "\n",
            "Note: The number of questions may vary based on your preference. Feel free to choose the ones you like or add more questions to create a longer trivia game.\n"
          ]
        }
      ]
    },
    {
      "cell_type": "code",
      "source": [
        "human_message_prompt = HumanMessagePromptTemplate(\n",
        "        prompt=PromptTemplate(\n",
        "            template=\"Using this {user}'s profile, create trivia about the favorite baseball team\",\n",
        "            input_variables=[\"user\"],\n",
        "        )\n",
        "    )\n",
        "chat_prompt_template = ChatPromptTemplate.from_messages([human_message_prompt])\n",
        "chain = LLMChain(llm=model, prompt=chat_prompt_template)\n",
        "print(chain.run(user = user))"
      ],
      "metadata": {
        "colab": {
          "base_uri": "https://localhost:8080/"
        },
        "id": "DZ9aHwHh9JtV",
        "outputId": "562b6763-73e9-41ff-ed55-d156661fc9d1"
      },
      "execution_count": null,
      "outputs": [
        {
          "output_type": "stream",
          "name": "stdout",
          "text": [
            "Trivia: \n",
            "- John Doe's favorite baseball team is the Philadelphia Phillies.\n",
            "- The Philadelphia Phillies are a professional baseball team based in Philadelphia, PA.\n",
            "- The team has a rich history and has won multiple World Series championships.\n",
            "- Some notable players who have played for the Philadelphia Phillies include Mike Schmidt and Chase Utley.\n",
            "- John Doe has a preference for baseball as one of his favorite sports.\n",
            "- John Doe also has a preference for basketball and his favorite basketball team is the Philadelphia 76ers.\n",
            "- The Philadelphia 76ers are a professional basketball team based in Philadelphia, PA.\n",
            "- Some notable basketball players that John Doe likes are Allen Iverson and Joel Embiid.\n",
            "- John Doe has a high interest in sports trivia.\n",
            "- John Doe's preferred sports news sources are ESPN and Sports Illustrated.\n",
            "- When it comes to sports video games, John Doe prefers MLB The Show for baseball and NBA 2K for basketball.\n"
          ]
        }
      ]
    },
    {
      "cell_type": "markdown",
      "source": [
        "## Trying to link results together"
      ],
      "metadata": {
        "id": "A68AVhNq81xG"
      }
    },
    {
      "cell_type": "code",
      "source": [
        "human_message_prompt = HumanMessagePromptTemplate(\n",
        "        prompt=PromptTemplate(\n",
        "            template=\"For these {tvlistings}, what movies, shows, sports are airing?\",\n",
        "            input_variables=[\"tvlistings\"],\n",
        "        )\n",
        "    )\n",
        "chat_prompt_template = ChatPromptTemplate.from_messages([human_message_prompt])\n",
        "chain = LLMChain(llm=model, prompt=chat_prompt_template)\n",
        "airing = chain.run(tvlistings = listings)"
      ],
      "metadata": {
        "id": "nFsOoznv88Bl"
      },
      "execution_count": null,
      "outputs": []
    },
    {
      "cell_type": "code",
      "source": [
        "print(airing)"
      ],
      "metadata": {
        "colab": {
          "base_uri": "https://localhost:8080/"
        },
        "id": "c392TVY6Klhf",
        "outputId": "9520f467-7695-41a6-debd-ccdfca8d3c4c"
      },
      "execution_count": null,
      "outputs": [
        {
          "output_type": "stream",
          "name": "stdout",
          "text": [
            "Based on the given listings, the following movies, shows, and sports are airing:\n",
            "\n",
            "Movies:\n",
            "1. Trolls: The Beat Goes On! (August 2, 2023, 7:00 PM - 8:00 PM)\n",
            "2. Trolls: The Beat Goes On! (August 2, 2023, 8:00 PM - 9:00 PM)\n",
            "3. Trolls: The Beat Goes On! (August 5, 2023, 9:00 PM - 10:00 PM)\n",
            "\n",
            "Shows:\n",
            "1. The Office - Episode 15 (August 1, 2023, 8:00 PM - 10:00 PM)\n",
            "2. The Office - Episode 16 (August 1, 2023, 10:00 PM - 11:00 PM)\n",
            "3. Desperate Housewives - Episode 5 (August 3, 2023, 8:00 PM - 10:00 PM)\n",
            "4. Desperate Housewives - Episode 6 (August 3, 2023, 10:00 PM - 11:00 PM)\n",
            "\n",
            "Sports:\n",
            "1. Live Baseball: Philadelphia Phillies vs. New York Mets (August 6, 2023, 1:00 PM - 4:00 PM)\n",
            "2. Live Basketball: Philadelphia 76ers vs. Boston Celtics (August 7, 2023, 7:30 PM - 10:30 PM)\n"
          ]
        }
      ]
    },
    {
      "cell_type": "code",
      "source": [
        "class Quest(BaseModel):\n",
        "    shows:  List[str] = Field(description=\"Names of show, movie, or sports\")\n",
        "    activities: List[str] = Field(description=\"list of engagement activities like watching an episode or a trivia a fan can do to win rewards\")\n",
        "    trivia_questions: List[str] = Field(description=\"list of trivia questions\")\n",
        "    correct_answers: List[str] = Field(description=\"list of correct answers to the questions\")\n",
        "\n",
        "\n",
        "quest_query = \"Generate activities and trivia for every {airings}\"\n",
        "\n",
        "parser = PydanticOutputParser(pydantic_object=Quest)\n",
        "\n",
        "\n",
        "human_message_prompt = HumanMessagePromptTemplate(\n",
        "    prompt = PromptTemplate(\n",
        "    template=\"Answer the user query.\\n{format_instructions}\\n{query}\\n{airings}\",\n",
        "    input_variables=[\"query\", \"airings\"],\n",
        "    partial_variables={\"format_instructions\": parser.get_format_instructions()},\n",
        ")\n",
        "    )\n",
        "chat_prompt_template = ChatPromptTemplate.from_messages([human_message_prompt])\n",
        "chain = LLMChain(llm=model, prompt=chat_prompt_template)\n",
        "\n",
        "output = chain.run(query = quest_query, airings = airing)\n",
        "\n",
        "parser.parse(output)"
      ],
      "metadata": {
        "colab": {
          "base_uri": "https://localhost:8080/"
        },
        "id": "c0-pGSbbJFUZ",
        "outputId": "6a321177-72d6-4be1-b807-ae1b354a1edd"
      },
      "execution_count": null,
      "outputs": [
        {
          "output_type": "execute_result",
          "data": {
            "text/plain": [
              "Quest(shows=['Trolls: The Beat Goes On!', 'The Office', 'Desperate Housewives'], activities=['Watch an episode of Trolls: The Beat Goes On!', 'Watch an episode of The Office', 'Watch an episode of Desperate Housewives', 'Watch a live baseball game: Philadelphia Phillies vs. New York Mets', 'Watch a live basketball game: Philadelphia 76ers vs. Boston Celtics'], trivia_questions=['What is the name of the main character in Trolls: The Beat Goes On!?', 'Who is the boss in The Office?', 'Who is the narrator in Desperate Housewives?', 'Which team won the live baseball game: Philadelphia Phillies or New York Mets?', 'Which team won the live basketball game: Philadelphia 76ers or Boston Celtics?'], correct_answers=['Poppy', 'Michael Scott', 'Mary Alice Young', 'TBD', 'TBD'])"
            ]
          },
          "metadata": {},
          "execution_count": 78
        }
      ]
    },
    {
      "cell_type": "markdown",
      "source": [
        "# Trying to get langchain to parse the data better"
      ],
      "metadata": {
        "id": "hZa28_fOdxo4"
      }
    },
    {
      "cell_type": "code",
      "source": [
        "from langchain.agents import create_pandas_dataframe_agent\n",
        "from langchain.agents.agent_types import AgentType\n",
        "import os\n",
        "import yaml\n",
        "from langchain.agents import create_json_agent, AgentExecutor\n",
        "from langchain.requests import TextRequestsWrapper\n",
        "from langchain.tools.json.tool import JsonSpec"
      ],
      "metadata": {
        "id": "s215RxMrsF2Z"
      },
      "execution_count": null,
      "outputs": []
    },
    {
      "cell_type": "code",
      "source": [
        "#pandas agent\n",
        "agent = create_pandas_dataframe_agent(\n",
        " model,\n",
        "  tv1,\n",
        " verbose=True,\n",
        ")\n",
        "agent.run(\"What show does the dataframe talk about?\")"
      ],
      "metadata": {
        "colab": {
          "base_uri": "https://localhost:8080/",
          "height": 768
        },
        "id": "fjaYCse-sKjt",
        "outputId": "9ab87e13-fd80-4463-e167-a30004e61879"
      },
      "execution_count": null,
      "outputs": [
        {
          "output_type": "stream",
          "name": "stdout",
          "text": [
            "\n",
            "\n",
            "\u001b[1m> Entering new AgentExecutor chain...\u001b[0m\n",
            "\u001b[32;1m\u001b[1;3mThought: I need to find the show mentioned in the dataframe.\n",
            "Action: I will access the 'Description' column of the dataframe.\n",
            "Action Input: `df['Description']`\u001b[0m\n",
            "Observation: I will access the 'Description' column of the dataframe. is not a valid tool, try another one.\n",
            "Thought:\u001b[32;1m\u001b[1;3mI need to find the show mentioned in the dataframe.\n",
            "Action: I will access the 'Description' column of the dataframe using the `df['Description']` command.\n",
            "Action Input: `df['Description']`\u001b[0m\n",
            "Observation: I will access the 'Description' column of the dataframe using the `df['Description']` command. is not a valid tool, try another one.\n",
            "Thought:\u001b[32;1m\u001b[1;3mI need to find the show mentioned in the dataframe.\n",
            "Action: I will access the 'Description' column of the dataframe using the `df['Description']` command.\n",
            "Action Input: `df['Description']`\u001b[0m\n",
            "Observation: I will access the 'Description' column of the dataframe using the `df['Description']` command. is not a valid tool, try another one.\n",
            "Thought:\u001b[32;1m\u001b[1;3mI need to find the show mentioned in the dataframe.\n",
            "Action: I will access the 'Description' column of the dataframe using the `df['Description']` command.\n",
            "Action Input: `df['Description']`\u001b[0m\n",
            "Observation: I will access the 'Description' column of the dataframe using the `df['Description']` command. is not a valid tool, try another one.\n",
            "Thought:\u001b[32;1m\u001b[1;3mI need to find the show mentioned in the dataframe.\n",
            "Action: I will access the 'Description' column of the dataframe using the `df['Description']` command.\n",
            "Action Input: `df['Description']`\u001b[0m\n",
            "Observation: I will access the 'Description' column of the dataframe using the `df['Description']` command. is not a valid tool, try another one.\n",
            "Thought:\u001b[32;1m\u001b[1;3mI need to find the show mentioned in the dataframe.\n",
            "Action: I will access the 'Character' column of the dataframe to see if it contains the name of the show.\n",
            "Action Input: `df['Character']`\u001b[0m\n",
            "Observation: I will access the 'Character' column of the dataframe to see if it contains the name of the show. is not a valid tool, try another one.\n",
            "Thought:\u001b[32;1m\u001b[1;3mI need to find the show mentioned in the dataframe.\n",
            "Action: I will print the 'Character' column of the dataframe to see if it contains the name of the show.\n",
            "Action Input: `print(df['Character'])`\u001b[0m\n",
            "Observation: I will print the 'Character' column of the dataframe to see if it contains the name of the show. is not a valid tool, try another one.\n",
            "Thought:\u001b[32;1m\u001b[1;3mI need to find the show mentioned in the dataframe.\n",
            "Action: I will access the 'Description' column of the dataframe to see if it contains the name of the show.\n",
            "Action Input: `df['Description'].head(1)`\u001b[0m\n",
            "Observation: I will access the 'Description' column of the dataframe to see if it contains the name of the show. is not a valid tool, try another one.\n",
            "Thought:\u001b[32;1m\u001b[1;3mI need to find the show mentioned in the dataframe.\n",
            "Action: I will access the 'Description' column of the dataframe to see if it contains the name of the show.\n",
            "Action Input: `df['Description'].iloc[0]`\u001b[0m\n",
            "Observation: I will access the 'Description' column of the dataframe to see if it contains the name of the show. is not a valid tool, try another one.\n",
            "Thought:\u001b[32;1m\u001b[1;3mThe show mentioned in the dataframe is \"Desperate Housewives\".\n",
            "Final Answer: Desperate Housewives\u001b[0m\n",
            "\n",
            "\u001b[1m> Finished chain.\u001b[0m\n"
          ]
        },
        {
          "output_type": "execute_result",
          "data": {
            "text/plain": [
              "'Desperate Housewives'"
            ],
            "application/vnd.google.colaboratory.intrinsic+json": {
              "type": "string"
            }
          },
          "metadata": {},
          "execution_count": 24
        }
      ]
    },
    {
      "cell_type": "code",
      "source": [
        "#let's try to access multiple dataframes and see if it would break (definitely could work better if I formatted the data better)\n",
        "agent = create_pandas_dataframe_agent(\n",
        " model,\n",
        "  [tv1, tv2, tv3],\n",
        " verbose=True,\n",
        ")\n",
        "agent.run(\"Give me the main character from desparate housewives.\")"
      ],
      "metadata": {
        "colab": {
          "base_uri": "https://localhost:8080/",
          "height": 1000
        },
        "id": "OyX9fJc9zSni",
        "outputId": "52ba2db0-d7c4-4887-91f2-868c1b6117ac"
      },
      "execution_count": null,
      "outputs": [
        {
          "output_type": "stream",
          "name": "stdout",
          "text": [
            "\n",
            "\n",
            "\u001b[1m> Entering new AgentExecutor chain...\u001b[0m\n",
            "\u001b[32;1m\u001b[1;3mThought: To find the main character from Desperate Housewives, I need to look at the \"Character\" column in the dataframe df1.\n",
            "Action: Access the \"Character\" column in df1.\n",
            "Action Input: df1[\"Character\"]\u001b[0m\n",
            "Observation: Access the \"Character\" column in df1. is not a valid tool, try another one.\n",
            "Thought:\u001b[32;1m\u001b[1;3mI can use the \"head()\" function to see the first few rows of the \"Character\" column in df1.\n",
            "Action: Use the \"head()\" function on df1[\"Character\"].\n",
            "Action Input: df1[\"Character\"].head()\u001b[0m\n",
            "Observation: Use the \"head()\" function on df1[\"Character\"]. is not a valid tool, try another one.\n",
            "Thought:\u001b[32;1m\u001b[1;3mI can use the \"head()\" function on df1 to see the first few rows of the dataframe.\n",
            "Action: Use the \"head()\" function on df1.\n",
            "Action Input: df1.head()\u001b[0m\n",
            "Observation: Use the \"head()\" function on df1. is not a valid tool, try another one.\n",
            "Thought:\u001b[32;1m\u001b[1;3mI can use the `print()` function to see the first few rows of df1.\n",
            "Action: Use the `print()` function on df1.\n",
            "Action Input: print(df1)\u001b[0m\n",
            "Observation: Use the `print()` function on df1. is not a valid tool, try another one.\n",
            "Thought:\u001b[32;1m\u001b[1;3mI can use the `print()` function to see the first few rows of df1[\"Character\"].\n",
            "Action: Use the `print()` function on df1[\"Character\"].\n",
            "Action Input: print(df1[\"Character\"])\u001b[0m\n",
            "Observation: Use the `print()` function on df1[\"Character\"]. is not a valid tool, try another one.\n",
            "Thought:\u001b[32;1m\u001b[1;3mI can use the `head()` function on df1[\"Character\"] to see the first few rows of the \"Character\" column in df1.\n",
            "Action: Use the `head()` function on df1[\"Character\"].\n",
            "Action Input: df1[\"Character\"].head()\u001b[0m\n",
            "Observation: Use the `head()` function on df1[\"Character\"]. is not a valid tool, try another one.\n",
            "Thought:\u001b[32;1m\u001b[1;3mI can access the \"Character\" column in df1 using df1[\"Character\"] and then use the `head()` function to see the first few rows.\n",
            "Action: Access the \"Character\" column in df1 and use the `head()` function.\n",
            "Action Input: df1[\"Character\"].head()\u001b[0m\n",
            "Observation: Access the \"Character\" column in df1 and use the `head()` function. is not a valid tool, try another one.\n",
            "Thought:\u001b[32;1m\u001b[1;3mI can access the \"Character\" column in df1 using df1[\"Character\"] and then use the .head() function to see the first few rows.\n",
            "Action: Access the \"Character\" column in df1 and use the .head() function.\n",
            "Action Input: df1[\"Character\"].head()\u001b[0m\n",
            "Observation: Access the \"Character\" column in df1 and use the .head() function. is not a valid tool, try another one.\n",
            "Thought:\u001b[32;1m\u001b[1;3mTo find the main character from Desperate Housewives, I can access the \"Character\" column in df1 and print the first few rows.\n",
            "Action: Access the \"Character\" column in df1 and print the first few rows.\n",
            "Action Input: df1[\"Character\"]\u001b[0m\n",
            "Observation: Access the \"Character\" column in df1 and print the first few rows. is not a valid tool, try another one.\n",
            "Thought:\u001b[32;1m\u001b[1;3mTo find the main character from Desperate Housewives, I can access the \"Character\" column in df1 and use the `head()` function to see the first few rows.\n",
            "Action: Access the \"Character\" column in df1 and use the `head()` function.\n",
            "Action Input: df1[\"Character\"].head()\u001b[0m\n",
            "Observation: Access the \"Character\" column in df1 and use the `head()` function. is not a valid tool, try another one.\n",
            "Thought:\u001b[32;1m\u001b[1;3mTo find the main character from Desperate Housewives, I can access the \"Character\" column in df1 and print the first few rows.\n",
            "Action: Access the \"Character\" column in df1 and print the first few rows.\n",
            "Action Input: print(df1[\"Character\"].head())\u001b[0m\n",
            "Observation: Access the \"Character\" column in df1 and print the first few rows. is not a valid tool, try another one.\n",
            "Thought:\u001b[32;1m\u001b[1;3mTo find the main character from Desperate Housewives, I can access the \"Character\" column in df1 and use the `head()` function to see the first few rows.\n",
            "Action: Access the \"Character\" column in df1 and use the `head()` function.\n",
            "Action Input: df1[\"Character\"].head()\u001b[0m\n",
            "Observation: Access the \"Character\" column in df1 and use the `head()` function. is not a valid tool, try another one.\n",
            "Thought:\u001b[32;1m\u001b[1;3mTo find the main character from Desperate Housewives, I can access the \"Character\" column in df1 and use the `head()` function to see the first few rows.\n",
            "Action: Access the \"Character\" column in df1 and use the `head()` function.\n",
            "Action Input: df1[\"Character\"].head()\u001b[0m\n",
            "Observation: Access the \"Character\" column in df1 and use the `head()` function. is not a valid tool, try another one.\n",
            "Thought:\u001b[32;1m\u001b[1;3mTo find the main character from Desperate Housewives, I can access the \"Character\" column in df1 and use the `head()` function to see the first few rows.\n",
            "Action: Access the \"Character\" column in df1 and use the `head()` function.\n",
            "Action Input: df1[\"Character\"].head()\u001b[0m\n",
            "Observation: Access the \"Character\" column in df1 and use the `head()` function. is not a valid tool, try another one.\n",
            "Thought:\u001b[32;1m\u001b[1;3mTo find the main character from Desperate Housewives, I can access the \"Character\" column in df1 and use the `head()` function to see the first few rows.\n",
            "Action: Access the \"Character\" column in df1 and use the `head()` function.\n",
            "Action Input: df1[\"Character\"].head()\u001b[0m\n",
            "Observation: Access the \"Character\" column in df1 and use the `head()` function. is not a valid tool, try another one.\n",
            "Thought:\u001b[32;1m\u001b[1;3m\u001b[0m\n",
            "\n",
            "\u001b[1m> Finished chain.\u001b[0m\n"
          ]
        },
        {
          "output_type": "execute_result",
          "data": {
            "text/plain": [
              "'Agent stopped due to iteration limit or time limit.'"
            ],
            "application/vnd.google.colaboratory.intrinsic+json": {
              "type": "string"
            }
          },
          "metadata": {},
          "execution_count": 31
        }
      ]
    },
    {
      "cell_type": "code",
      "source": [
        "agent = create_pandas_dataframe_agent(\n",
        " model,\n",
        "  user,\n",
        " verbose=True,\n",
        ")\n",
        "agent.run(\"What is this user's favorite teams\")"
      ],
      "metadata": {
        "colab": {
          "base_uri": "https://localhost:8080/",
          "height": 261
        },
        "id": "gh9rInpS-zG-",
        "outputId": "84861da8-f442-4163-e08a-4b12d8a077a2"
      },
      "execution_count": null,
      "outputs": [
        {
          "output_type": "stream",
          "name": "stdout",
          "text": [
            "\n",
            "\n",
            "\u001b[1m> Entering new AgentExecutor chain...\u001b[0m\n",
            "\u001b[32;1m\u001b[1;3mThought: We need to find out the user's favorite teams. We can do this by filtering the dataframe for rows where the Category column is \"Favorite Sports\" and then getting the unique values in the Preference column.\n",
            "\n",
            "Action: python_repl_ast\n",
            "Action Input: df[df['Category'] == 'Favorite Sports']['Preference'].unique()\u001b[0m\n",
            "Observation: \u001b[36;1m\u001b[1;3m['Baseball' 'Basketball']\u001b[0m\n",
            "Thought:\u001b[32;1m\u001b[1;3mThe user's favorite teams are Baseball and Basketball.\n",
            "Final Answer: Baseball, Basketball\u001b[0m\n",
            "\n",
            "\u001b[1m> Finished chain.\u001b[0m\n"
          ]
        },
        {
          "output_type": "execute_result",
          "data": {
            "text/plain": [
              "'Baseball, Basketball'"
            ],
            "application/vnd.google.colaboratory.intrinsic+json": {
              "type": "string"
            }
          },
          "metadata": {},
          "execution_count": 52
        }
      ]
    },
    {
      "cell_type": "code",
      "source": [
        "agent = create_pandas_dataframe_agent(\n",
        " model,\n",
        "  user,\n",
        " verbose=True,\n",
        ")\n",
        "agent.run(\"What is this user's favorite team for baseball\")"
      ],
      "metadata": {
        "colab": {
          "base_uri": "https://localhost:8080/",
          "height": 623
        },
        "id": "kS8zPion_icl",
        "outputId": "77dbe471-d6c3-4215-feb2-c44ae454a20d"
      },
      "execution_count": null,
      "outputs": [
        {
          "output_type": "stream",
          "name": "stdout",
          "text": [
            "\n",
            "\n",
            "\u001b[1m> Entering new AgentExecutor chain...\u001b[0m\n",
            "\u001b[32;1m\u001b[1;3mThought: I need to find the row where the Category is \"Favorite Sports\" and the Preference is \"Baseball\".\n",
            "Action: I will filter the dataframe to find the desired row.\n",
            "Action Input: `df[(df['Category'] == 'Favorite Sports') & (df['Preference'] == 'Baseball')]`\u001b[0m\n",
            "Observation: I will filter the dataframe to find the desired row. is not a valid tool, try another one.\n",
            "Thought:\u001b[32;1m\u001b[1;3mI need to use the `query` function to filter the dataframe.\n",
            "Action: I will use the `query` function to filter the dataframe.\n",
            "Action Input: `df.query(\"Category == 'Favorite Sports' and Preference == 'Baseball'\")`\u001b[0m\n",
            "Observation: I will use the `query` function to filter the dataframe. is not a valid tool, try another one.\n",
            "Thought:\u001b[32;1m\u001b[1;3mI can use the `loc` function to filter the dataframe.\n",
            "Action: I will use the `loc` function to filter the dataframe.\n",
            "Action Input: `df.loc[(df['Category'] == 'Favorite Sports') & (df['Preference'] == 'Baseball')]`\u001b[0m\n",
            "Observation: I will use the `loc` function to filter the dataframe. is not a valid tool, try another one.\n",
            "Thought:"
          ]
        },
        {
          "output_type": "error",
          "ename": "OutputParserException",
          "evalue": "ignored",
          "traceback": [
            "\u001b[0;31m---------------------------------------------------------------------------\u001b[0m",
            "\u001b[0;31mOutputParserException\u001b[0m                     Traceback (most recent call last)",
            "\u001b[0;32m<ipython-input-53-38a080f298b0>\u001b[0m in \u001b[0;36m<cell line: 6>\u001b[0;34m()\u001b[0m\n\u001b[1;32m      4\u001b[0m  \u001b[0mverbose\u001b[0m\u001b[0;34m=\u001b[0m\u001b[0;32mTrue\u001b[0m\u001b[0;34m,\u001b[0m\u001b[0;34m\u001b[0m\u001b[0;34m\u001b[0m\u001b[0m\n\u001b[1;32m      5\u001b[0m )\n\u001b[0;32m----> 6\u001b[0;31m \u001b[0magent\u001b[0m\u001b[0;34m.\u001b[0m\u001b[0mrun\u001b[0m\u001b[0;34m(\u001b[0m\u001b[0;34m\"What is this user's favorite team for baseball\"\u001b[0m\u001b[0;34m)\u001b[0m\u001b[0;34m\u001b[0m\u001b[0;34m\u001b[0m\u001b[0m\n\u001b[0m",
            "\u001b[0;32m/usr/local/lib/python3.10/dist-packages/langchain/chains/base.py\u001b[0m in \u001b[0;36mrun\u001b[0;34m(self, callbacks, tags, metadata, *args, **kwargs)\u001b[0m\n\u001b[1;32m    449\u001b[0m             \u001b[0;32mif\u001b[0m \u001b[0mlen\u001b[0m\u001b[0;34m(\u001b[0m\u001b[0margs\u001b[0m\u001b[0;34m)\u001b[0m \u001b[0;34m!=\u001b[0m \u001b[0;36m1\u001b[0m\u001b[0;34m:\u001b[0m\u001b[0;34m\u001b[0m\u001b[0;34m\u001b[0m\u001b[0m\n\u001b[1;32m    450\u001b[0m                 \u001b[0;32mraise\u001b[0m \u001b[0mValueError\u001b[0m\u001b[0;34m(\u001b[0m\u001b[0;34m\"`run` supports only one positional argument.\"\u001b[0m\u001b[0;34m)\u001b[0m\u001b[0;34m\u001b[0m\u001b[0;34m\u001b[0m\u001b[0m\n\u001b[0;32m--> 451\u001b[0;31m             return self(args[0], callbacks=callbacks, tags=tags, metadata=metadata)[\n\u001b[0m\u001b[1;32m    452\u001b[0m                 \u001b[0m_output_key\u001b[0m\u001b[0;34m\u001b[0m\u001b[0;34m\u001b[0m\u001b[0m\n\u001b[1;32m    453\u001b[0m             ]\n",
            "\u001b[0;32m/usr/local/lib/python3.10/dist-packages/langchain/chains/base.py\u001b[0m in \u001b[0;36m__call__\u001b[0;34m(self, inputs, return_only_outputs, callbacks, tags, metadata, include_run_info)\u001b[0m\n\u001b[1;32m    256\u001b[0m         \u001b[0;32mexcept\u001b[0m \u001b[0;34m(\u001b[0m\u001b[0mKeyboardInterrupt\u001b[0m\u001b[0;34m,\u001b[0m \u001b[0mException\u001b[0m\u001b[0;34m)\u001b[0m \u001b[0;32mas\u001b[0m \u001b[0me\u001b[0m\u001b[0;34m:\u001b[0m\u001b[0;34m\u001b[0m\u001b[0;34m\u001b[0m\u001b[0m\n\u001b[1;32m    257\u001b[0m             \u001b[0mrun_manager\u001b[0m\u001b[0;34m.\u001b[0m\u001b[0mon_chain_error\u001b[0m\u001b[0;34m(\u001b[0m\u001b[0me\u001b[0m\u001b[0;34m)\u001b[0m\u001b[0;34m\u001b[0m\u001b[0;34m\u001b[0m\u001b[0m\n\u001b[0;32m--> 258\u001b[0;31m             \u001b[0;32mraise\u001b[0m \u001b[0me\u001b[0m\u001b[0;34m\u001b[0m\u001b[0;34m\u001b[0m\u001b[0m\n\u001b[0m\u001b[1;32m    259\u001b[0m         \u001b[0mrun_manager\u001b[0m\u001b[0;34m.\u001b[0m\u001b[0mon_chain_end\u001b[0m\u001b[0;34m(\u001b[0m\u001b[0moutputs\u001b[0m\u001b[0;34m)\u001b[0m\u001b[0;34m\u001b[0m\u001b[0;34m\u001b[0m\u001b[0m\n\u001b[1;32m    260\u001b[0m         final_outputs: Dict[str, Any] = self.prep_outputs(\n",
            "\u001b[0;32m/usr/local/lib/python3.10/dist-packages/langchain/chains/base.py\u001b[0m in \u001b[0;36m__call__\u001b[0;34m(self, inputs, return_only_outputs, callbacks, tags, metadata, include_run_info)\u001b[0m\n\u001b[1;32m    250\u001b[0m         \u001b[0;32mtry\u001b[0m\u001b[0;34m:\u001b[0m\u001b[0;34m\u001b[0m\u001b[0;34m\u001b[0m\u001b[0m\n\u001b[1;32m    251\u001b[0m             outputs = (\n\u001b[0;32m--> 252\u001b[0;31m                 \u001b[0mself\u001b[0m\u001b[0;34m.\u001b[0m\u001b[0m_call\u001b[0m\u001b[0;34m(\u001b[0m\u001b[0minputs\u001b[0m\u001b[0;34m,\u001b[0m \u001b[0mrun_manager\u001b[0m\u001b[0;34m=\u001b[0m\u001b[0mrun_manager\u001b[0m\u001b[0;34m)\u001b[0m\u001b[0;34m\u001b[0m\u001b[0;34m\u001b[0m\u001b[0m\n\u001b[0m\u001b[1;32m    253\u001b[0m                 \u001b[0;32mif\u001b[0m \u001b[0mnew_arg_supported\u001b[0m\u001b[0;34m\u001b[0m\u001b[0;34m\u001b[0m\u001b[0m\n\u001b[1;32m    254\u001b[0m                 \u001b[0;32melse\u001b[0m \u001b[0mself\u001b[0m\u001b[0;34m.\u001b[0m\u001b[0m_call\u001b[0m\u001b[0;34m(\u001b[0m\u001b[0minputs\u001b[0m\u001b[0;34m)\u001b[0m\u001b[0;34m\u001b[0m\u001b[0;34m\u001b[0m\u001b[0m\n",
            "\u001b[0;32m/usr/local/lib/python3.10/dist-packages/langchain/agents/agent.py\u001b[0m in \u001b[0;36m_call\u001b[0;34m(self, inputs, run_manager)\u001b[0m\n\u001b[1;32m   1027\u001b[0m         \u001b[0;31m# We now enter the agent loop (until it returns something).\u001b[0m\u001b[0;34m\u001b[0m\u001b[0;34m\u001b[0m\u001b[0m\n\u001b[1;32m   1028\u001b[0m         \u001b[0;32mwhile\u001b[0m \u001b[0mself\u001b[0m\u001b[0;34m.\u001b[0m\u001b[0m_should_continue\u001b[0m\u001b[0;34m(\u001b[0m\u001b[0miterations\u001b[0m\u001b[0;34m,\u001b[0m \u001b[0mtime_elapsed\u001b[0m\u001b[0;34m)\u001b[0m\u001b[0;34m:\u001b[0m\u001b[0;34m\u001b[0m\u001b[0;34m\u001b[0m\u001b[0m\n\u001b[0;32m-> 1029\u001b[0;31m             next_step_output = self._take_next_step(\n\u001b[0m\u001b[1;32m   1030\u001b[0m                 \u001b[0mname_to_tool_map\u001b[0m\u001b[0;34m,\u001b[0m\u001b[0;34m\u001b[0m\u001b[0;34m\u001b[0m\u001b[0m\n\u001b[1;32m   1031\u001b[0m                 \u001b[0mcolor_mapping\u001b[0m\u001b[0;34m,\u001b[0m\u001b[0;34m\u001b[0m\u001b[0;34m\u001b[0m\u001b[0m\n",
            "\u001b[0;32m/usr/local/lib/python3.10/dist-packages/langchain/agents/agent.py\u001b[0m in \u001b[0;36m_take_next_step\u001b[0;34m(self, name_to_tool_map, color_mapping, inputs, intermediate_steps, run_manager)\u001b[0m\n\u001b[1;32m    841\u001b[0m                 \u001b[0mraise_error\u001b[0m \u001b[0;34m=\u001b[0m \u001b[0;32mFalse\u001b[0m\u001b[0;34m\u001b[0m\u001b[0;34m\u001b[0m\u001b[0m\n\u001b[1;32m    842\u001b[0m             \u001b[0;32mif\u001b[0m \u001b[0mraise_error\u001b[0m\u001b[0;34m:\u001b[0m\u001b[0;34m\u001b[0m\u001b[0;34m\u001b[0m\u001b[0m\n\u001b[0;32m--> 843\u001b[0;31m                 \u001b[0;32mraise\u001b[0m \u001b[0me\u001b[0m\u001b[0;34m\u001b[0m\u001b[0;34m\u001b[0m\u001b[0m\n\u001b[0m\u001b[1;32m    844\u001b[0m             \u001b[0mtext\u001b[0m \u001b[0;34m=\u001b[0m \u001b[0mstr\u001b[0m\u001b[0;34m(\u001b[0m\u001b[0me\u001b[0m\u001b[0;34m)\u001b[0m\u001b[0;34m\u001b[0m\u001b[0;34m\u001b[0m\u001b[0m\n\u001b[1;32m    845\u001b[0m             \u001b[0;32mif\u001b[0m \u001b[0misinstance\u001b[0m\u001b[0;34m(\u001b[0m\u001b[0mself\u001b[0m\u001b[0;34m.\u001b[0m\u001b[0mhandle_parsing_errors\u001b[0m\u001b[0;34m,\u001b[0m \u001b[0mbool\u001b[0m\u001b[0;34m)\u001b[0m\u001b[0;34m:\u001b[0m\u001b[0;34m\u001b[0m\u001b[0;34m\u001b[0m\u001b[0m\n",
            "\u001b[0;32m/usr/local/lib/python3.10/dist-packages/langchain/agents/agent.py\u001b[0m in \u001b[0;36m_take_next_step\u001b[0;34m(self, name_to_tool_map, color_mapping, inputs, intermediate_steps, run_manager)\u001b[0m\n\u001b[1;32m    830\u001b[0m \u001b[0;34m\u001b[0m\u001b[0m\n\u001b[1;32m    831\u001b[0m             \u001b[0;31m# Call the LLM to see what to do.\u001b[0m\u001b[0;34m\u001b[0m\u001b[0;34m\u001b[0m\u001b[0m\n\u001b[0;32m--> 832\u001b[0;31m             output = self.agent.plan(\n\u001b[0m\u001b[1;32m    833\u001b[0m                 \u001b[0mintermediate_steps\u001b[0m\u001b[0;34m,\u001b[0m\u001b[0;34m\u001b[0m\u001b[0;34m\u001b[0m\u001b[0m\n\u001b[1;32m    834\u001b[0m                 \u001b[0mcallbacks\u001b[0m\u001b[0;34m=\u001b[0m\u001b[0mrun_manager\u001b[0m\u001b[0;34m.\u001b[0m\u001b[0mget_child\u001b[0m\u001b[0;34m(\u001b[0m\u001b[0;34m)\u001b[0m \u001b[0;32mif\u001b[0m \u001b[0mrun_manager\u001b[0m \u001b[0;32melse\u001b[0m \u001b[0;32mNone\u001b[0m\u001b[0;34m,\u001b[0m\u001b[0;34m\u001b[0m\u001b[0;34m\u001b[0m\u001b[0m\n",
            "\u001b[0;32m/usr/local/lib/python3.10/dist-packages/langchain/agents/agent.py\u001b[0m in \u001b[0;36mplan\u001b[0;34m(self, intermediate_steps, callbacks, **kwargs)\u001b[0m\n\u001b[1;32m    455\u001b[0m         \u001b[0mfull_inputs\u001b[0m \u001b[0;34m=\u001b[0m \u001b[0mself\u001b[0m\u001b[0;34m.\u001b[0m\u001b[0mget_full_inputs\u001b[0m\u001b[0;34m(\u001b[0m\u001b[0mintermediate_steps\u001b[0m\u001b[0;34m,\u001b[0m \u001b[0;34m**\u001b[0m\u001b[0mkwargs\u001b[0m\u001b[0;34m)\u001b[0m\u001b[0;34m\u001b[0m\u001b[0;34m\u001b[0m\u001b[0m\n\u001b[1;32m    456\u001b[0m         \u001b[0mfull_output\u001b[0m \u001b[0;34m=\u001b[0m \u001b[0mself\u001b[0m\u001b[0;34m.\u001b[0m\u001b[0mllm_chain\u001b[0m\u001b[0;34m.\u001b[0m\u001b[0mpredict\u001b[0m\u001b[0;34m(\u001b[0m\u001b[0mcallbacks\u001b[0m\u001b[0;34m=\u001b[0m\u001b[0mcallbacks\u001b[0m\u001b[0;34m,\u001b[0m \u001b[0;34m**\u001b[0m\u001b[0mfull_inputs\u001b[0m\u001b[0;34m)\u001b[0m\u001b[0;34m\u001b[0m\u001b[0;34m\u001b[0m\u001b[0m\n\u001b[0;32m--> 457\u001b[0;31m         \u001b[0;32mreturn\u001b[0m \u001b[0mself\u001b[0m\u001b[0;34m.\u001b[0m\u001b[0moutput_parser\u001b[0m\u001b[0;34m.\u001b[0m\u001b[0mparse\u001b[0m\u001b[0;34m(\u001b[0m\u001b[0mfull_output\u001b[0m\u001b[0;34m)\u001b[0m\u001b[0;34m\u001b[0m\u001b[0;34m\u001b[0m\u001b[0m\n\u001b[0m\u001b[1;32m    458\u001b[0m \u001b[0;34m\u001b[0m\u001b[0m\n\u001b[1;32m    459\u001b[0m     async def aplan(\n",
            "\u001b[0;32m/usr/local/lib/python3.10/dist-packages/langchain/agents/mrkl/output_parser.py\u001b[0m in \u001b[0;36mparse\u001b[0;34m(self, text)\u001b[0m\n\u001b[1;32m     50\u001b[0m \u001b[0;34m\u001b[0m\u001b[0m\n\u001b[1;32m     51\u001b[0m         \u001b[0;32mif\u001b[0m \u001b[0;32mnot\u001b[0m \u001b[0mre\u001b[0m\u001b[0;34m.\u001b[0m\u001b[0msearch\u001b[0m\u001b[0;34m(\u001b[0m\u001b[0;34mr\"Action\\s*\\d*\\s*:[\\s]*(.*?)\"\u001b[0m\u001b[0;34m,\u001b[0m \u001b[0mtext\u001b[0m\u001b[0;34m,\u001b[0m \u001b[0mre\u001b[0m\u001b[0;34m.\u001b[0m\u001b[0mDOTALL\u001b[0m\u001b[0;34m)\u001b[0m\u001b[0;34m:\u001b[0m\u001b[0;34m\u001b[0m\u001b[0;34m\u001b[0m\u001b[0m\n\u001b[0;32m---> 52\u001b[0;31m             raise OutputParserException(\n\u001b[0m\u001b[1;32m     53\u001b[0m                 \u001b[0;34mf\"Could not parse LLM output: `{text}`\"\u001b[0m\u001b[0;34m,\u001b[0m\u001b[0;34m\u001b[0m\u001b[0;34m\u001b[0m\u001b[0m\n\u001b[1;32m     54\u001b[0m                 \u001b[0mobservation\u001b[0m\u001b[0;34m=\u001b[0m\u001b[0mMISSING_ACTION_AFTER_THOUGHT_ERROR_MESSAGE\u001b[0m\u001b[0;34m,\u001b[0m\u001b[0;34m\u001b[0m\u001b[0;34m\u001b[0m\u001b[0m\n",
            "\u001b[0;31mOutputParserException\u001b[0m: Could not parse LLM output: `I can use the `loc` function to filter the dataframe.`"
          ]
        }
      ]
    },
    {
      "cell_type": "markdown",
      "source": [
        "So maybe uploading the csv as a pandas dataframe is not the best method, since it can't access a lot of the data."
      ],
      "metadata": {
        "id": "w8MfLkbB0kGJ"
      }
    },
    {
      "cell_type": "code",
      "source": [
        "#json agent\n",
        "\n",
        "#agent = create_json_agent(model, questformat, verbose=True)\n",
        "#agent.run(\"What are the activities?\")"
      ],
      "metadata": {
        "colab": {
          "base_uri": "https://localhost:8080/",
          "height": 361
        },
        "id": "6E7gbIAisOwd",
        "outputId": "3f673588-db20-49d6-a97b-0ff92f7dec3e"
      },
      "execution_count": null,
      "outputs": [
        {
          "output_type": "error",
          "ename": "AttributeError",
          "evalue": "ignored",
          "traceback": [
            "\u001b[0;31m---------------------------------------------------------------------------\u001b[0m",
            "\u001b[0;31mAttributeError\u001b[0m                            Traceback (most recent call last)",
            "\u001b[0;32m<ipython-input-38-641ed6216c9a>\u001b[0m in \u001b[0;36m<cell line: 3>\u001b[0;34m()\u001b[0m\n\u001b[1;32m      1\u001b[0m \u001b[0;31m#json agent\u001b[0m\u001b[0;34m\u001b[0m\u001b[0;34m\u001b[0m\u001b[0m\n\u001b[1;32m      2\u001b[0m \u001b[0;34m\u001b[0m\u001b[0m\n\u001b[0;32m----> 3\u001b[0;31m \u001b[0magent\u001b[0m \u001b[0;34m=\u001b[0m \u001b[0mcreate_json_agent\u001b[0m\u001b[0;34m(\u001b[0m\u001b[0mmodel\u001b[0m\u001b[0;34m,\u001b[0m \u001b[0mquestformat\u001b[0m\u001b[0;34m,\u001b[0m \u001b[0mverbose\u001b[0m\u001b[0;34m=\u001b[0m\u001b[0;32mTrue\u001b[0m\u001b[0;34m)\u001b[0m\u001b[0;34m\u001b[0m\u001b[0;34m\u001b[0m\u001b[0m\n\u001b[0m\u001b[1;32m      4\u001b[0m \u001b[0magent\u001b[0m\u001b[0;34m.\u001b[0m\u001b[0mrun\u001b[0m\u001b[0;34m(\u001b[0m\u001b[0;34m\"What are the activities?\"\u001b[0m\u001b[0;34m)\u001b[0m\u001b[0;34m\u001b[0m\u001b[0;34m\u001b[0m\u001b[0m\n",
            "\u001b[0;32m/usr/local/lib/python3.10/dist-packages/langchain/agents/agent_toolkits/json/base.py\u001b[0m in \u001b[0;36mcreate_json_agent\u001b[0;34m(llm, toolkit, callback_manager, prefix, suffix, format_instructions, input_variables, verbose, agent_executor_kwargs, **kwargs)\u001b[0m\n\u001b[1;32m     25\u001b[0m ) -> AgentExecutor:\n\u001b[1;32m     26\u001b[0m     \u001b[0;34m\"\"\"Construct a json agent from an LLM and tools.\"\"\"\u001b[0m\u001b[0;34m\u001b[0m\u001b[0;34m\u001b[0m\u001b[0m\n\u001b[0;32m---> 27\u001b[0;31m     \u001b[0mtools\u001b[0m \u001b[0;34m=\u001b[0m \u001b[0mtoolkit\u001b[0m\u001b[0;34m.\u001b[0m\u001b[0mget_tools\u001b[0m\u001b[0;34m(\u001b[0m\u001b[0;34m)\u001b[0m\u001b[0;34m\u001b[0m\u001b[0;34m\u001b[0m\u001b[0m\n\u001b[0m\u001b[1;32m     28\u001b[0m     prompt = ZeroShotAgent.create_prompt(\n\u001b[1;32m     29\u001b[0m         \u001b[0mtools\u001b[0m\u001b[0;34m,\u001b[0m\u001b[0;34m\u001b[0m\u001b[0;34m\u001b[0m\u001b[0m\n",
            "\u001b[0;31mAttributeError\u001b[0m: 'dict' object has no attribute 'get_tools'"
          ]
        }
      ]
    },
    {
      "cell_type": "markdown",
      "source": [
        "Unfortunately, it looks like langchain can't process complicated json files - there should be a better way of uploading data for langchain then.  "
      ],
      "metadata": {
        "id": "aTdxQBP31OhC"
      }
    },
    {
      "cell_type": "markdown",
      "source": [
        "Below, I tried to just parse the files I have without an agent but it doesn't seem to understand it as well."
      ],
      "metadata": {
        "id": "MkXau9zJ7H4j"
      }
    },
    {
      "cell_type": "code",
      "source": [
        "human_message_prompt = HumanMessagePromptTemplate(\n",
        "        prompt=PromptTemplate(\n",
        "            template=\"Look through this week's tv listings: {tvlistings} and identify which of these files: {facts} should be used\",\n",
        "            input_variables=[\"tvlistings\", \"facts\"],\n",
        "        )\n",
        "    )\n",
        "chat_prompt_template = ChatPromptTemplate.from_messages([human_message_prompt])\n",
        "chain = LLMChain(llm=model, prompt=chat_prompt_template)\n",
        "print(chain.run(tvlistings = listings, facts = [tv1, tv2, tv3]))"
      ],
      "metadata": {
        "colab": {
          "base_uri": "https://localhost:8080/"
        },
        "id": "6eCR85qCJJ1D",
        "outputId": "382ed800-c055-4ee6-ffef-7010203d9ea7"
      },
      "execution_count": null,
      "outputs": [
        {
          "output_type": "stream",
          "name": "stdout",
          "text": [
            "Based on the given information, the following files should be used:\n",
            "\n",
            "1. File with TV listings: listings\n",
            "2. File with Descriptions and Characters for Desperate Housewives: Season 1\n",
            "3. File with Descriptions and Characters for The Office: Season 1\n",
            "4. File with Descriptions and Characters for Trolls: Trolls World Tour\n"
          ]
        }
      ]
    },
    {
      "cell_type": "code",
      "source": [
        "human_message_prompt = HumanMessagePromptTemplate(\n",
        "        prompt=PromptTemplate(\n",
        "            template=\"This json file: {tvlistings} contains information about what movies and shows are airing this week which are?\",\n",
        "            input_variables=[\"tvlistings\"],\n",
        "        )\n",
        "    )\n",
        "chat_prompt_template = ChatPromptTemplate.from_messages([human_message_prompt])\n",
        "chain = LLMChain(llm=model, prompt=chat_prompt_template)\n",
        "print(chain.run(tvlistings = listings))"
      ],
      "metadata": {
        "colab": {
          "base_uri": "https://localhost:8080/"
        },
        "id": "HaF_1XbeLAlQ",
        "outputId": "dfaac19b-e6cf-4359-b406-c1bc94edef8c"
      },
      "execution_count": null,
      "outputs": [
        {
          "output_type": "stream",
          "name": "stdout",
          "text": [
            "The information about movies and shows airing this week can be found by parsing the \"listings\" key in the JSON file. Each element in the \"listings\" array contains information about a specific listing, including the \"listingID\" and \"startTime\" of the airing.\n",
            "\n",
            "To extract the specific movie or show information, you would need to access the values within each listing object. The exact structure of the JSON file is not provided, so it's difficult to provide a more specific answer. However, you can access the \"listingID\" and \"startTime\" fields for each listing by iterating through the \"listings\" array.\n",
            "\n",
            "Once you have the \"listingID\" and \"startTime\" values, you can use them to retrieve additional information about the movies or shows airing this week from a separate data source or API.\n"
          ]
        }
      ]
    }
  ]
}